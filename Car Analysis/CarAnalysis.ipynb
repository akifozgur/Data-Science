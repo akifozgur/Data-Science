{
  "cells": [
    {
      "cell_type": "markdown",
      "metadata": {
        "id": "9DJfJmyfe7N2"
      },
      "source": [
        "# Car Analysis"
      ]
    },
    {
      "cell_type": "markdown",
      "metadata": {
        "id": "rilR3CxywjQj"
      },
      "source": [
        "In this example, we will first examine the dataset created with the characteristics of \"year\", \"price\", \"transmission\", \"milage\", \"tax\", \"mpg\" and \"engineSize\" of used cars in the UK, and we will make the dataset more consistent by making some changes to it. \n",
        "\n",
        "We will then create a regression model that we will use for prediction and train our model with 70% of our dataset using features other than \"price\". \n",
        "\n",
        "Finally, we will try to estimate the \"price\" values of the cars using the model we trained and use error metrics for measuring the performance of the model."
      ]
    },
    {
      "cell_type": "code",
      "execution_count": 79,
      "metadata": {
        "id": "wxzOYigG4ipU"
      },
      "outputs": [],
      "source": [
        "import pandas as pd\n",
        "import numpy as np\n",
        "import matplotlib.pyplot as plt\n",
        "import seaborn as sns"
      ]
    },
    {
      "cell_type": "code",
      "execution_count": 105,
      "metadata": {
        "colab": {
          "base_uri": "https://localhost:8080/",
          "height": 206
        },
        "id": "rIJr-RTw4isE",
        "outputId": "a1d70812-7981-4bd0-e238-8c3b3e65fd90"
      },
      "outputs": [
        {
          "data": {
            "text/html": [
              "\n",
              "  <div id=\"df-6f387b18-007a-4162-98b3-45db39853f8c\">\n",
              "    <div class=\"colab-df-container\">\n",
              "      <div>\n",
              "<style scoped>\n",
              "    .dataframe tbody tr th:only-of-type {\n",
              "        vertical-align: middle;\n",
              "    }\n",
              "\n",
              "    .dataframe tbody tr th {\n",
              "        vertical-align: top;\n",
              "    }\n",
              "\n",
              "    .dataframe thead th {\n",
              "        text-align: right;\n",
              "    }\n",
              "</style>\n",
              "<table border=\"1\" class=\"dataframe\">\n",
              "  <thead>\n",
              "    <tr style=\"text-align: right;\">\n",
              "      <th></th>\n",
              "      <th>year</th>\n",
              "      <th>price</th>\n",
              "      <th>transmission</th>\n",
              "      <th>mileage</th>\n",
              "      <th>tax</th>\n",
              "      <th>mpg</th>\n",
              "      <th>engineSize</th>\n",
              "    </tr>\n",
              "  </thead>\n",
              "  <tbody>\n",
              "    <tr>\n",
              "      <th>0</th>\n",
              "      <td>2005</td>\n",
              "      <td>5200</td>\n",
              "      <td>Automatic</td>\n",
              "      <td>63000</td>\n",
              "      <td>325</td>\n",
              "      <td>32.1</td>\n",
              "      <td>1.8</td>\n",
              "    </tr>\n",
              "    <tr>\n",
              "      <th>1</th>\n",
              "      <td>2017</td>\n",
              "      <td>34948</td>\n",
              "      <td>Automatic</td>\n",
              "      <td>27000</td>\n",
              "      <td>20</td>\n",
              "      <td>61.4</td>\n",
              "      <td>2.1</td>\n",
              "    </tr>\n",
              "    <tr>\n",
              "      <th>2</th>\n",
              "      <td>2016</td>\n",
              "      <td>49948</td>\n",
              "      <td>Automatic</td>\n",
              "      <td>6200</td>\n",
              "      <td>555</td>\n",
              "      <td>28.0</td>\n",
              "      <td>5.5</td>\n",
              "    </tr>\n",
              "    <tr>\n",
              "      <th>3</th>\n",
              "      <td>2016</td>\n",
              "      <td>61948</td>\n",
              "      <td>Automatic</td>\n",
              "      <td>16000</td>\n",
              "      <td>325</td>\n",
              "      <td>30.4</td>\n",
              "      <td>4.0</td>\n",
              "    </tr>\n",
              "    <tr>\n",
              "      <th>4</th>\n",
              "      <td>2016</td>\n",
              "      <td>73948</td>\n",
              "      <td>Automatic</td>\n",
              "      <td>4000</td>\n",
              "      <td>325</td>\n",
              "      <td>30.1</td>\n",
              "      <td>4.0</td>\n",
              "    </tr>\n",
              "  </tbody>\n",
              "</table>\n",
              "</div>\n",
              "      <button class=\"colab-df-convert\" onclick=\"convertToInteractive('df-6f387b18-007a-4162-98b3-45db39853f8c')\"\n",
              "              title=\"Convert this dataframe to an interactive table.\"\n",
              "              style=\"display:none;\">\n",
              "        \n",
              "  <svg xmlns=\"http://www.w3.org/2000/svg\" height=\"24px\"viewBox=\"0 0 24 24\"\n",
              "       width=\"24px\">\n",
              "    <path d=\"M0 0h24v24H0V0z\" fill=\"none\"/>\n",
              "    <path d=\"M18.56 5.44l.94 2.06.94-2.06 2.06-.94-2.06-.94-.94-2.06-.94 2.06-2.06.94zm-11 1L8.5 8.5l.94-2.06 2.06-.94-2.06-.94L8.5 2.5l-.94 2.06-2.06.94zm10 10l.94 2.06.94-2.06 2.06-.94-2.06-.94-.94-2.06-.94 2.06-2.06.94z\"/><path d=\"M17.41 7.96l-1.37-1.37c-.4-.4-.92-.59-1.43-.59-.52 0-1.04.2-1.43.59L10.3 9.45l-7.72 7.72c-.78.78-.78 2.05 0 2.83L4 21.41c.39.39.9.59 1.41.59.51 0 1.02-.2 1.41-.59l7.78-7.78 2.81-2.81c.8-.78.8-2.07 0-2.86zM5.41 20L4 18.59l7.72-7.72 1.47 1.35L5.41 20z\"/>\n",
              "  </svg>\n",
              "      </button>\n",
              "      \n",
              "  <style>\n",
              "    .colab-df-container {\n",
              "      display:flex;\n",
              "      flex-wrap:wrap;\n",
              "      gap: 12px;\n",
              "    }\n",
              "\n",
              "    .colab-df-convert {\n",
              "      background-color: #E8F0FE;\n",
              "      border: none;\n",
              "      border-radius: 50%;\n",
              "      cursor: pointer;\n",
              "      display: none;\n",
              "      fill: #1967D2;\n",
              "      height: 32px;\n",
              "      padding: 0 0 0 0;\n",
              "      width: 32px;\n",
              "    }\n",
              "\n",
              "    .colab-df-convert:hover {\n",
              "      background-color: #E2EBFA;\n",
              "      box-shadow: 0px 1px 2px rgba(60, 64, 67, 0.3), 0px 1px 3px 1px rgba(60, 64, 67, 0.15);\n",
              "      fill: #174EA6;\n",
              "    }\n",
              "\n",
              "    [theme=dark] .colab-df-convert {\n",
              "      background-color: #3B4455;\n",
              "      fill: #D2E3FC;\n",
              "    }\n",
              "\n",
              "    [theme=dark] .colab-df-convert:hover {\n",
              "      background-color: #434B5C;\n",
              "      box-shadow: 0px 1px 3px 1px rgba(0, 0, 0, 0.15);\n",
              "      filter: drop-shadow(0px 1px 2px rgba(0, 0, 0, 0.3));\n",
              "      fill: #FFFFFF;\n",
              "    }\n",
              "  </style>\n",
              "\n",
              "      <script>\n",
              "        const buttonEl =\n",
              "          document.querySelector('#df-6f387b18-007a-4162-98b3-45db39853f8c button.colab-df-convert');\n",
              "        buttonEl.style.display =\n",
              "          google.colab.kernel.accessAllowed ? 'block' : 'none';\n",
              "\n",
              "        async function convertToInteractive(key) {\n",
              "          const element = document.querySelector('#df-6f387b18-007a-4162-98b3-45db39853f8c');\n",
              "          const dataTable =\n",
              "            await google.colab.kernel.invokeFunction('convertToInteractive',\n",
              "                                                     [key], {});\n",
              "          if (!dataTable) return;\n",
              "\n",
              "          const docLinkHtml = 'Like what you see? Visit the ' +\n",
              "            '<a target=\"_blank\" href=https://colab.research.google.com/notebooks/data_table.ipynb>data table notebook</a>'\n",
              "            + ' to learn more about interactive tables.';\n",
              "          element.innerHTML = '';\n",
              "          dataTable['output_type'] = 'display_data';\n",
              "          await google.colab.output.renderOutput(dataTable, element);\n",
              "          const docLink = document.createElement('div');\n",
              "          docLink.innerHTML = docLinkHtml;\n",
              "          element.appendChild(docLink);\n",
              "        }\n",
              "      </script>\n",
              "    </div>\n",
              "  </div>\n",
              "  "
            ],
            "text/plain": [
              "   year  price transmission  mileage  tax   mpg  engineSize\n",
              "0  2005   5200    Automatic    63000  325  32.1         1.8\n",
              "1  2017  34948    Automatic    27000   20  61.4         2.1\n",
              "2  2016  49948    Automatic     6200  555  28.0         5.5\n",
              "3  2016  61948    Automatic    16000  325  30.4         4.0\n",
              "4  2016  73948    Automatic     4000  325  30.1         4.0"
            ]
          },
          "execution_count": 105,
          "metadata": {},
          "output_type": "execute_result"
        }
      ],
      "source": [
        "df = pd.read_excel(\"merc.xlsx\")\n",
        "df.head()"
      ]
    },
    {
      "cell_type": "code",
      "execution_count": 106,
      "metadata": {
        "colab": {
          "base_uri": "https://localhost:8080/",
          "height": 300
        },
        "id": "PSXD8ltx5RsI",
        "outputId": "e6c1a3b1-accd-4607-dcf2-bef652f36eb9"
      },
      "outputs": [
        {
          "data": {
            "text/html": [
              "\n",
              "  <div id=\"df-034c95f8-6744-425a-9d56-1fb241634397\">\n",
              "    <div class=\"colab-df-container\">\n",
              "      <div>\n",
              "<style scoped>\n",
              "    .dataframe tbody tr th:only-of-type {\n",
              "        vertical-align: middle;\n",
              "    }\n",
              "\n",
              "    .dataframe tbody tr th {\n",
              "        vertical-align: top;\n",
              "    }\n",
              "\n",
              "    .dataframe thead th {\n",
              "        text-align: right;\n",
              "    }\n",
              "</style>\n",
              "<table border=\"1\" class=\"dataframe\">\n",
              "  <thead>\n",
              "    <tr style=\"text-align: right;\">\n",
              "      <th></th>\n",
              "      <th>year</th>\n",
              "      <th>price</th>\n",
              "      <th>mileage</th>\n",
              "      <th>tax</th>\n",
              "      <th>mpg</th>\n",
              "      <th>engineSize</th>\n",
              "    </tr>\n",
              "  </thead>\n",
              "  <tbody>\n",
              "    <tr>\n",
              "      <th>count</th>\n",
              "      <td>13119.000000</td>\n",
              "      <td>13119.000000</td>\n",
              "      <td>13119.000000</td>\n",
              "      <td>13119.000000</td>\n",
              "      <td>13119.000000</td>\n",
              "      <td>13119.000000</td>\n",
              "    </tr>\n",
              "    <tr>\n",
              "      <th>mean</th>\n",
              "      <td>2017.296288</td>\n",
              "      <td>24698.596920</td>\n",
              "      <td>21949.559037</td>\n",
              "      <td>129.972178</td>\n",
              "      <td>55.155843</td>\n",
              "      <td>2.071530</td>\n",
              "    </tr>\n",
              "    <tr>\n",
              "      <th>std</th>\n",
              "      <td>2.224709</td>\n",
              "      <td>11842.675542</td>\n",
              "      <td>21176.512267</td>\n",
              "      <td>65.260286</td>\n",
              "      <td>15.220082</td>\n",
              "      <td>0.572426</td>\n",
              "    </tr>\n",
              "    <tr>\n",
              "      <th>min</th>\n",
              "      <td>1970.000000</td>\n",
              "      <td>650.000000</td>\n",
              "      <td>1.000000</td>\n",
              "      <td>0.000000</td>\n",
              "      <td>1.100000</td>\n",
              "      <td>0.000000</td>\n",
              "    </tr>\n",
              "    <tr>\n",
              "      <th>25%</th>\n",
              "      <td>2016.000000</td>\n",
              "      <td>17450.000000</td>\n",
              "      <td>6097.500000</td>\n",
              "      <td>125.000000</td>\n",
              "      <td>45.600000</td>\n",
              "      <td>1.800000</td>\n",
              "    </tr>\n",
              "    <tr>\n",
              "      <th>50%</th>\n",
              "      <td>2018.000000</td>\n",
              "      <td>22480.000000</td>\n",
              "      <td>15189.000000</td>\n",
              "      <td>145.000000</td>\n",
              "      <td>56.500000</td>\n",
              "      <td>2.000000</td>\n",
              "    </tr>\n",
              "    <tr>\n",
              "      <th>75%</th>\n",
              "      <td>2019.000000</td>\n",
              "      <td>28980.000000</td>\n",
              "      <td>31779.500000</td>\n",
              "      <td>145.000000</td>\n",
              "      <td>64.200000</td>\n",
              "      <td>2.100000</td>\n",
              "    </tr>\n",
              "    <tr>\n",
              "      <th>max</th>\n",
              "      <td>2020.000000</td>\n",
              "      <td>159999.000000</td>\n",
              "      <td>259000.000000</td>\n",
              "      <td>580.000000</td>\n",
              "      <td>217.300000</td>\n",
              "      <td>6.200000</td>\n",
              "    </tr>\n",
              "  </tbody>\n",
              "</table>\n",
              "</div>\n",
              "      <button class=\"colab-df-convert\" onclick=\"convertToInteractive('df-034c95f8-6744-425a-9d56-1fb241634397')\"\n",
              "              title=\"Convert this dataframe to an interactive table.\"\n",
              "              style=\"display:none;\">\n",
              "        \n",
              "  <svg xmlns=\"http://www.w3.org/2000/svg\" height=\"24px\"viewBox=\"0 0 24 24\"\n",
              "       width=\"24px\">\n",
              "    <path d=\"M0 0h24v24H0V0z\" fill=\"none\"/>\n",
              "    <path d=\"M18.56 5.44l.94 2.06.94-2.06 2.06-.94-2.06-.94-.94-2.06-.94 2.06-2.06.94zm-11 1L8.5 8.5l.94-2.06 2.06-.94-2.06-.94L8.5 2.5l-.94 2.06-2.06.94zm10 10l.94 2.06.94-2.06 2.06-.94-2.06-.94-.94-2.06-.94 2.06-2.06.94z\"/><path d=\"M17.41 7.96l-1.37-1.37c-.4-.4-.92-.59-1.43-.59-.52 0-1.04.2-1.43.59L10.3 9.45l-7.72 7.72c-.78.78-.78 2.05 0 2.83L4 21.41c.39.39.9.59 1.41.59.51 0 1.02-.2 1.41-.59l7.78-7.78 2.81-2.81c.8-.78.8-2.07 0-2.86zM5.41 20L4 18.59l7.72-7.72 1.47 1.35L5.41 20z\"/>\n",
              "  </svg>\n",
              "      </button>\n",
              "      \n",
              "  <style>\n",
              "    .colab-df-container {\n",
              "      display:flex;\n",
              "      flex-wrap:wrap;\n",
              "      gap: 12px;\n",
              "    }\n",
              "\n",
              "    .colab-df-convert {\n",
              "      background-color: #E8F0FE;\n",
              "      border: none;\n",
              "      border-radius: 50%;\n",
              "      cursor: pointer;\n",
              "      display: none;\n",
              "      fill: #1967D2;\n",
              "      height: 32px;\n",
              "      padding: 0 0 0 0;\n",
              "      width: 32px;\n",
              "    }\n",
              "\n",
              "    .colab-df-convert:hover {\n",
              "      background-color: #E2EBFA;\n",
              "      box-shadow: 0px 1px 2px rgba(60, 64, 67, 0.3), 0px 1px 3px 1px rgba(60, 64, 67, 0.15);\n",
              "      fill: #174EA6;\n",
              "    }\n",
              "\n",
              "    [theme=dark] .colab-df-convert {\n",
              "      background-color: #3B4455;\n",
              "      fill: #D2E3FC;\n",
              "    }\n",
              "\n",
              "    [theme=dark] .colab-df-convert:hover {\n",
              "      background-color: #434B5C;\n",
              "      box-shadow: 0px 1px 3px 1px rgba(0, 0, 0, 0.15);\n",
              "      filter: drop-shadow(0px 1px 2px rgba(0, 0, 0, 0.3));\n",
              "      fill: #FFFFFF;\n",
              "    }\n",
              "  </style>\n",
              "\n",
              "      <script>\n",
              "        const buttonEl =\n",
              "          document.querySelector('#df-034c95f8-6744-425a-9d56-1fb241634397 button.colab-df-convert');\n",
              "        buttonEl.style.display =\n",
              "          google.colab.kernel.accessAllowed ? 'block' : 'none';\n",
              "\n",
              "        async function convertToInteractive(key) {\n",
              "          const element = document.querySelector('#df-034c95f8-6744-425a-9d56-1fb241634397');\n",
              "          const dataTable =\n",
              "            await google.colab.kernel.invokeFunction('convertToInteractive',\n",
              "                                                     [key], {});\n",
              "          if (!dataTable) return;\n",
              "\n",
              "          const docLinkHtml = 'Like what you see? Visit the ' +\n",
              "            '<a target=\"_blank\" href=https://colab.research.google.com/notebooks/data_table.ipynb>data table notebook</a>'\n",
              "            + ' to learn more about interactive tables.';\n",
              "          element.innerHTML = '';\n",
              "          dataTable['output_type'] = 'display_data';\n",
              "          await google.colab.output.renderOutput(dataTable, element);\n",
              "          const docLink = document.createElement('div');\n",
              "          docLink.innerHTML = docLinkHtml;\n",
              "          element.appendChild(docLink);\n",
              "        }\n",
              "      </script>\n",
              "    </div>\n",
              "  </div>\n",
              "  "
            ],
            "text/plain": [
              "               year          price        mileage           tax           mpg  \\\n",
              "count  13119.000000   13119.000000   13119.000000  13119.000000  13119.000000   \n",
              "mean    2017.296288   24698.596920   21949.559037    129.972178     55.155843   \n",
              "std        2.224709   11842.675542   21176.512267     65.260286     15.220082   \n",
              "min     1970.000000     650.000000       1.000000      0.000000      1.100000   \n",
              "25%     2016.000000   17450.000000    6097.500000    125.000000     45.600000   \n",
              "50%     2018.000000   22480.000000   15189.000000    145.000000     56.500000   \n",
              "75%     2019.000000   28980.000000   31779.500000    145.000000     64.200000   \n",
              "max     2020.000000  159999.000000  259000.000000    580.000000    217.300000   \n",
              "\n",
              "         engineSize  \n",
              "count  13119.000000  \n",
              "mean       2.071530  \n",
              "std        0.572426  \n",
              "min        0.000000  \n",
              "25%        1.800000  \n",
              "50%        2.000000  \n",
              "75%        2.100000  \n",
              "max        6.200000  "
            ]
          },
          "execution_count": 106,
          "metadata": {},
          "output_type": "execute_result"
        }
      ],
      "source": [
        "df.describe()"
      ]
    },
    {
      "cell_type": "markdown",
      "metadata": {
        "id": "LzV-4-40caYM"
      },
      "source": [
        "Checking for Null data in datasets is important in data science because missing or incomplete data can lead to inaccurate and biased analysis results, reduce the number of variables available for analysis, and potentially result in insufficient data for accurate modeling. Identifying and addressing Null data is crucial for obtaining accurate and reliable analysis results."
      ]
    },
    {
      "cell_type": "code",
      "execution_count": 107,
      "metadata": {
        "colab": {
          "base_uri": "https://localhost:8080/"
        },
        "id": "lv6IiiA250oe",
        "outputId": "5df173f1-db7e-4ed1-95d5-31989719f490"
      },
      "outputs": [
        {
          "data": {
            "text/plain": [
              "year            0\n",
              "price           0\n",
              "transmission    0\n",
              "mileage         0\n",
              "tax             0\n",
              "mpg             0\n",
              "engineSize      0\n",
              "dtype: int64"
            ]
          },
          "execution_count": 107,
          "metadata": {},
          "output_type": "execute_result"
        }
      ],
      "source": [
        "df.isnull().sum()"
      ]
    },
    {
      "cell_type": "markdown",
      "metadata": {
        "id": "5zrV8BUR6rMO"
      },
      "source": [
        "## Graphic Analysis"
      ]
    },
    {
      "cell_type": "code",
      "execution_count": 108,
      "metadata": {
        "colab": {
          "base_uri": "https://localhost:8080/",
          "height": 674
        },
        "id": "rKZMy_5W6t3h",
        "outputId": "c97baee5-79c7-46fd-89af-56bdb5cdf1a3"
      },
      "outputs": [
        {
          "data": {
            "text/plain": [
              "<seaborn.axisgrid.FacetGrid at 0x7f73f2001eb0>"
            ]
          },
          "execution_count": 108,
          "metadata": {},
          "output_type": "execute_result"
        },
        {
          "data": {
            "image/png": "[encoded data removed]",
            "text/plain": [
              "<Figure size 745.2x648 with 1 Axes>"
            ]
          },
          "metadata": {
            "needs_background": "light"
          },
          "output_type": "display_data"
        }
      ],
      "source": [
        "sns.displot(x = df[\"price\"], height=9, aspect=1.15)"
      ]
    },
    {
      "cell_type": "markdown",
      "metadata": {
        "id": "zKw63xv9geKV"
      },
      "source": [
        "When we look at the graph above, we can see that there are very expensive cars that have deviated from the general spread. Depending on the data you are analyzing, you can either delete these extreme examples or train your model with these data. In this example, we will purify our data from these data. We will do this later in the Data Clearing section."
      ]
    },
    {
      "cell_type": "code",
      "execution_count": 109,
      "metadata": {
        "colab": {
          "base_uri": "https://localhost:8080/",
          "height": 568
        },
        "id": "ExM8AnKL7Sm5",
        "outputId": "4a8ba42e-95ac-44a1-cf33-fee4733717c9"
      },
      "outputs": [
        {
          "data": {
            "text/plain": [
              "<Axes: xlabel='year', ylabel='count'>"
            ]
          },
          "execution_count": 109,
          "metadata": {},
          "output_type": "execute_result"
        },
        {
          "data": {
            "image/png": "[encoded data removed]",
            "text/plain": [
              "<Figure size 864x648 with 1 Axes>"
            ]
          },
          "metadata": {
            "needs_background": "light"
          },
          "output_type": "display_data"
        }
      ],
      "source": [
        "plt.figure(figsize=(12,9))\n",
        "sns.countplot(x = df[\"year\"])"
      ]
    },
    {
      "cell_type": "markdown",
      "metadata": {
        "id": "k6QK-e-gyPA6"
      },
      "source": [
        "As can be seen in the graphic above, the number of used cars produced in our data set close to today is higher than the number of used vehicles produced in earlier dates."
      ]
    },
    {
      "cell_type": "markdown",
      "metadata": {
        "id": "e2WWs0W6KNP-"
      },
      "source": [
        "Below we see the correlation between features. While some features affect the \"price\" feature positively, some features affect it negatively."
      ]
    },
    {
      "cell_type": "code",
      "execution_count": 110,
      "metadata": {
        "colab": {
          "base_uri": "https://localhost:8080/",
          "height": 238
        },
        "id": "_XVOSsUr8H9I",
        "outputId": "53ead69c-0887-4af8-fac7-ce89d3a93901"
      },
      "outputs": [
        {
          "data": {
            "text/html": [
              "\n",
              "  <div id=\"df-a5fb50e0-2c91-43b4-bcd0-d5a91295c794\">\n",
              "    <div class=\"colab-df-container\">\n",
              "      <div>\n",
              "<style scoped>\n",
              "    .dataframe tbody tr th:only-of-type {\n",
              "        vertical-align: middle;\n",
              "    }\n",
              "\n",
              "    .dataframe tbody tr th {\n",
              "        vertical-align: top;\n",
              "    }\n",
              "\n",
              "    .dataframe thead th {\n",
              "        text-align: right;\n",
              "    }\n",
              "</style>\n",
              "<table border=\"1\" class=\"dataframe\">\n",
              "  <thead>\n",
              "    <tr style=\"text-align: right;\">\n",
              "      <th></th>\n",
              "      <th>year</th>\n",
              "      <th>price</th>\n",
              "      <th>mileage</th>\n",
              "      <th>tax</th>\n",
              "      <th>mpg</th>\n",
              "      <th>engineSize</th>\n",
              "    </tr>\n",
              "  </thead>\n",
              "  <tbody>\n",
              "    <tr>\n",
              "      <th>year</th>\n",
              "      <td>1.000000</td>\n",
              "      <td>0.520712</td>\n",
              "      <td>-0.738027</td>\n",
              "      <td>0.012480</td>\n",
              "      <td>-0.094626</td>\n",
              "      <td>-0.142147</td>\n",
              "    </tr>\n",
              "    <tr>\n",
              "      <th>price</th>\n",
              "      <td>0.520712</td>\n",
              "      <td>1.000000</td>\n",
              "      <td>-0.537214</td>\n",
              "      <td>0.268717</td>\n",
              "      <td>-0.438445</td>\n",
              "      <td>0.516126</td>\n",
              "    </tr>\n",
              "    <tr>\n",
              "      <th>mileage</th>\n",
              "      <td>-0.738027</td>\n",
              "      <td>-0.537214</td>\n",
              "      <td>1.000000</td>\n",
              "      <td>-0.160223</td>\n",
              "      <td>0.202850</td>\n",
              "      <td>0.063652</td>\n",
              "    </tr>\n",
              "    <tr>\n",
              "      <th>tax</th>\n",
              "      <td>0.012480</td>\n",
              "      <td>0.268717</td>\n",
              "      <td>-0.160223</td>\n",
              "      <td>1.000000</td>\n",
              "      <td>-0.513742</td>\n",
              "      <td>0.338341</td>\n",
              "    </tr>\n",
              "    <tr>\n",
              "      <th>mpg</th>\n",
              "      <td>-0.094626</td>\n",
              "      <td>-0.438445</td>\n",
              "      <td>0.202850</td>\n",
              "      <td>-0.513742</td>\n",
              "      <td>1.000000</td>\n",
              "      <td>-0.339862</td>\n",
              "    </tr>\n",
              "    <tr>\n",
              "      <th>engineSize</th>\n",
              "      <td>-0.142147</td>\n",
              "      <td>0.516126</td>\n",
              "      <td>0.063652</td>\n",
              "      <td>0.338341</td>\n",
              "      <td>-0.339862</td>\n",
              "      <td>1.000000</td>\n",
              "    </tr>\n",
              "  </tbody>\n",
              "</table>\n",
              "</div>\n",
              "      <button class=\"colab-df-convert\" onclick=\"convertToInteractive('df-a5fb50e0-2c91-43b4-bcd0-d5a91295c794')\"\n",
              "              title=\"Convert this dataframe to an interactive table.\"\n",
              "              style=\"display:none;\">\n",
              "        \n",
              "  <svg xmlns=\"http://www.w3.org/2000/svg\" height=\"24px\"viewBox=\"0 0 24 24\"\n",
              "       width=\"24px\">\n",
              "    <path d=\"M0 0h24v24H0V0z\" fill=\"none\"/>\n",
              "    <path d=\"M18.56 5.44l.94 2.06.94-2.06 2.06-.94-2.06-.94-.94-2.06-.94 2.06-2.06.94zm-11 1L8.5 8.5l.94-2.06 2.06-.94-2.06-.94L8.5 2.5l-.94 2.06-2.06.94zm10 10l.94 2.06.94-2.06 2.06-.94-2.06-.94-.94-2.06-.94 2.06-2.06.94z\"/><path d=\"M17.41 7.96l-1.37-1.37c-.4-.4-.92-.59-1.43-.59-.52 0-1.04.2-1.43.59L10.3 9.45l-7.72 7.72c-.78.78-.78 2.05 0 2.83L4 21.41c.39.39.9.59 1.41.59.51 0 1.02-.2 1.41-.59l7.78-7.78 2.81-2.81c.8-.78.8-2.07 0-2.86zM5.41 20L4 18.59l7.72-7.72 1.47 1.35L5.41 20z\"/>\n",
              "  </svg>\n",
              "      </button>\n",
              "      \n",
              "  <style>\n",
              "    .colab-df-container {\n",
              "      display:flex;\n",
              "      flex-wrap:wrap;\n",
              "      gap: 12px;\n",
              "    }\n",
              "\n",
              "    .colab-df-convert {\n",
              "      background-color: #E8F0FE;\n",
              "      border: none;\n",
              "      border-radius: 50%;\n",
              "      cursor: pointer;\n",
              "      display: none;\n",
              "      fill: #1967D2;\n",
              "      height: 32px;\n",
              "      padding: 0 0 0 0;\n",
              "      width: 32px;\n",
              "    }\n",
              "\n",
              "    .colab-df-convert:hover {\n",
              "      background-color: #E2EBFA;\n",
              "      box-shadow: 0px 1px 2px rgba(60, 64, 67, 0.3), 0px 1px 3px 1px rgba(60, 64, 67, 0.15);\n",
              "      fill: #174EA6;\n",
              "    }\n",
              "\n",
              "    [theme=dark] .colab-df-convert {\n",
              "      background-color: #3B4455;\n",
              "      fill: #D2E3FC;\n",
              "    }\n",
              "\n",
              "    [theme=dark] .colab-df-convert:hover {\n",
              "      background-color: #434B5C;\n",
              "      box-shadow: 0px 1px 3px 1px rgba(0, 0, 0, 0.15);\n",
              "      filter: drop-shadow(0px 1px 2px rgba(0, 0, 0, 0.3));\n",
              "      fill: #FFFFFF;\n",
              "    }\n",
              "  </style>\n",
              "\n",
              "      <script>\n",
              "        const buttonEl =\n",
              "          document.querySelector('#df-a5fb50e0-2c91-43b4-bcd0-d5a91295c794 button.colab-df-convert');\n",
              "        buttonEl.style.display =\n",
              "          google.colab.kernel.accessAllowed ? 'block' : 'none';\n",
              "\n",
              "        async function convertToInteractive(key) {\n",
              "          const element = document.querySelector('#df-a5fb50e0-2c91-43b4-bcd0-d5a91295c794');\n",
              "          const dataTable =\n",
              "            await google.colab.kernel.invokeFunction('convertToInteractive',\n",
              "                                                     [key], {});\n",
              "          if (!dataTable) return;\n",
              "\n",
              "          const docLinkHtml = 'Like what you see? Visit the ' +\n",
              "            '<a target=\"_blank\" href=https://colab.research.google.com/notebooks/data_table.ipynb>data table notebook</a>'\n",
              "            + ' to learn more about interactive tables.';\n",
              "          element.innerHTML = '';\n",
              "          dataTable['output_type'] = 'display_data';\n",
              "          await google.colab.output.renderOutput(dataTable, element);\n",
              "          const docLink = document.createElement('div');\n",
              "          docLink.innerHTML = docLinkHtml;\n",
              "          element.appendChild(docLink);\n",
              "        }\n",
              "      </script>\n",
              "    </div>\n",
              "  </div>\n",
              "  "
            ],
            "text/plain": [
              "                year     price   mileage       tax       mpg  engineSize\n",
              "year        1.000000  0.520712 -0.738027  0.012480 -0.094626   -0.142147\n",
              "price       0.520712  1.000000 -0.537214  0.268717 -0.438445    0.516126\n",
              "mileage    -0.738027 -0.537214  1.000000 -0.160223  0.202850    0.063652\n",
              "tax         0.012480  0.268717 -0.160223  1.000000 -0.513742    0.338341\n",
              "mpg        -0.094626 -0.438445  0.202850 -0.513742  1.000000   -0.339862\n",
              "engineSize -0.142147  0.516126  0.063652  0.338341 -0.339862    1.000000"
            ]
          },
          "execution_count": 110,
          "metadata": {},
          "output_type": "execute_result"
        }
      ],
      "source": [
        "df.corr()"
      ]
    },
    {
      "cell_type": "code",
      "execution_count": 111,
      "metadata": {
        "colab": {
          "base_uri": "https://localhost:8080/"
        },
        "id": "OQkccGP48iG9",
        "outputId": "38915930-e64a-4c8c-d86c-4a82837fd6f0"
      },
      "outputs": [
        {
          "data": {
            "text/plain": [
              "mileage      -0.537214\n",
              "mpg          -0.438445\n",
              "tax           0.268717\n",
              "engineSize    0.516126\n",
              "year          0.520712\n",
              "price         1.000000\n",
              "Name: price, dtype: float64"
            ]
          },
          "execution_count": 111,
          "metadata": {},
          "output_type": "execute_result"
        }
      ],
      "source": [
        "df.corr()[\"price\"].sort_values()"
      ]
    },
    {
      "cell_type": "code",
      "execution_count": 112,
      "metadata": {
        "colab": {
          "base_uri": "https://localhost:8080/",
          "height": 568
        },
        "id": "a8husk_B81xV",
        "outputId": "60d0e59b-29c4-4441-c382-b61e50aa5506"
      },
      "outputs": [
        {
          "data": {
            "text/plain": [
              "<Axes: xlabel='mileage', ylabel='price'>"
            ]
          },
          "execution_count": 112,
          "metadata": {},
          "output_type": "execute_result"
        },
        {
          "data": {
            "image/png": "[encoded data removed]",
            "text/plain": [
              "<Figure size 864x648 with 1 Axes>"
            ]
          },
          "metadata": {
            "needs_background": "light"
          },
          "output_type": "display_data"
        }
      ],
      "source": [
        "plt.figure(figsize=(12,9))\n",
        "sns.scatterplot(x = \"mileage\", y = \"price\", data=df)"
      ]
    },
    {
      "cell_type": "markdown",
      "metadata": {
        "id": "jM5DzfgzMnRn"
      },
      "source": [
        "As can be seen in the graph, the price of our cars decreases as the miles traveled increase. There is an inverse correlation between these two features."
      ]
    },
    {
      "cell_type": "markdown",
      "metadata": {
        "id": "tYHXjCGODwmU"
      },
      "source": [
        "## Data Clearing"
      ]
    },
    {
      "cell_type": "markdown",
      "metadata": {
        "id": "JbKQ0wMQNPth"
      },
      "source": [
        "As I mentioned above, the prices of some of our cars are far outside the general price distribution. Although the deletion process of the data varies according to the data we analyze and the reason for our analysis, in this example, we will delete data up to 1% of our data number. The data we're going to delete will be the data with the highest price."
      ]
    },
    {
      "cell_type": "code",
      "execution_count": 113,
      "metadata": {
        "colab": {
          "base_uri": "https://localhost:8080/",
          "height": 677
        },
        "id": "M0xdQ5hL-cm-",
        "outputId": "8ccf679d-3dfe-4602-f8ee-95ea4b6eb27c"
      },
      "outputs": [
        {
          "data": {
            "text/html": [
              "\n",
              "  <div id=\"df-d81111b2-0684-409f-8da7-4bcd3861391c\">\n",
              "    <div class=\"colab-df-container\">\n",
              "      <div>\n",
              "<style scoped>\n",
              "    .dataframe tbody tr th:only-of-type {\n",
              "        vertical-align: middle;\n",
              "    }\n",
              "\n",
              "    .dataframe tbody tr th {\n",
              "        vertical-align: top;\n",
              "    }\n",
              "\n",
              "    .dataframe thead th {\n",
              "        text-align: right;\n",
              "    }\n",
              "</style>\n",
              "<table border=\"1\" class=\"dataframe\">\n",
              "  <thead>\n",
              "    <tr style=\"text-align: right;\">\n",
              "      <th></th>\n",
              "      <th>year</th>\n",
              "      <th>price</th>\n",
              "      <th>transmission</th>\n",
              "      <th>mileage</th>\n",
              "      <th>tax</th>\n",
              "      <th>mpg</th>\n",
              "      <th>engineSize</th>\n",
              "    </tr>\n",
              "  </thead>\n",
              "  <tbody>\n",
              "    <tr>\n",
              "      <th>6199</th>\n",
              "      <td>2020</td>\n",
              "      <td>159999</td>\n",
              "      <td>Semi-Auto</td>\n",
              "      <td>1350</td>\n",
              "      <td>145</td>\n",
              "      <td>21.4</td>\n",
              "      <td>4.0</td>\n",
              "    </tr>\n",
              "    <tr>\n",
              "      <th>10044</th>\n",
              "      <td>2020</td>\n",
              "      <td>154998</td>\n",
              "      <td>Automatic</td>\n",
              "      <td>3000</td>\n",
              "      <td>150</td>\n",
              "      <td>21.4</td>\n",
              "      <td>4.0</td>\n",
              "    </tr>\n",
              "    <tr>\n",
              "      <th>5</th>\n",
              "      <td>2011</td>\n",
              "      <td>149948</td>\n",
              "      <td>Automatic</td>\n",
              "      <td>3000</td>\n",
              "      <td>570</td>\n",
              "      <td>21.4</td>\n",
              "      <td>6.2</td>\n",
              "    </tr>\n",
              "    <tr>\n",
              "      <th>8737</th>\n",
              "      <td>2019</td>\n",
              "      <td>140319</td>\n",
              "      <td>Semi-Auto</td>\n",
              "      <td>785</td>\n",
              "      <td>150</td>\n",
              "      <td>22.1</td>\n",
              "      <td>4.0</td>\n",
              "    </tr>\n",
              "    <tr>\n",
              "      <th>6386</th>\n",
              "      <td>2018</td>\n",
              "      <td>139995</td>\n",
              "      <td>Semi-Auto</td>\n",
              "      <td>13046</td>\n",
              "      <td>145</td>\n",
              "      <td>21.4</td>\n",
              "      <td>4.0</td>\n",
              "    </tr>\n",
              "    <tr>\n",
              "      <th>8</th>\n",
              "      <td>2019</td>\n",
              "      <td>139948</td>\n",
              "      <td>Automatic</td>\n",
              "      <td>12000</td>\n",
              "      <td>145</td>\n",
              "      <td>21.4</td>\n",
              "      <td>4.0</td>\n",
              "    </tr>\n",
              "    <tr>\n",
              "      <th>9133</th>\n",
              "      <td>2019</td>\n",
              "      <td>139559</td>\n",
              "      <td>Semi-Auto</td>\n",
              "      <td>1000</td>\n",
              "      <td>145</td>\n",
              "      <td>22.1</td>\n",
              "      <td>4.0</td>\n",
              "    </tr>\n",
              "    <tr>\n",
              "      <th>8821</th>\n",
              "      <td>2020</td>\n",
              "      <td>138439</td>\n",
              "      <td>Semi-Auto</td>\n",
              "      <td>1000</td>\n",
              "      <td>145</td>\n",
              "      <td>22.1</td>\n",
              "      <td>4.0</td>\n",
              "    </tr>\n",
              "    <tr>\n",
              "      <th>5902</th>\n",
              "      <td>2018</td>\n",
              "      <td>135771</td>\n",
              "      <td>Semi-Auto</td>\n",
              "      <td>19000</td>\n",
              "      <td>145</td>\n",
              "      <td>21.4</td>\n",
              "      <td>4.0</td>\n",
              "    </tr>\n",
              "    <tr>\n",
              "      <th>7864</th>\n",
              "      <td>2018</td>\n",
              "      <td>135124</td>\n",
              "      <td>Semi-Auto</td>\n",
              "      <td>18234</td>\n",
              "      <td>150</td>\n",
              "      <td>21.4</td>\n",
              "      <td>4.0</td>\n",
              "    </tr>\n",
              "    <tr>\n",
              "      <th>8673</th>\n",
              "      <td>2019</td>\n",
              "      <td>134219</td>\n",
              "      <td>Semi-Auto</td>\n",
              "      <td>1000</td>\n",
              "      <td>145</td>\n",
              "      <td>24.8</td>\n",
              "      <td>4.0</td>\n",
              "    </tr>\n",
              "    <tr>\n",
              "      <th>6210</th>\n",
              "      <td>2019</td>\n",
              "      <td>129990</td>\n",
              "      <td>Automatic</td>\n",
              "      <td>1000</td>\n",
              "      <td>145</td>\n",
              "      <td>24.8</td>\n",
              "      <td>4.0</td>\n",
              "    </tr>\n",
              "    <tr>\n",
              "      <th>4759</th>\n",
              "      <td>2019</td>\n",
              "      <td>126000</td>\n",
              "      <td>Automatic</td>\n",
              "      <td>250</td>\n",
              "      <td>145</td>\n",
              "      <td>24.6</td>\n",
              "      <td>4.0</td>\n",
              "    </tr>\n",
              "    <tr>\n",
              "      <th>2647</th>\n",
              "      <td>2019</td>\n",
              "      <td>125796</td>\n",
              "      <td>Automatic</td>\n",
              "      <td>637</td>\n",
              "      <td>145</td>\n",
              "      <td>24.8</td>\n",
              "      <td>4.0</td>\n",
              "    </tr>\n",
              "    <tr>\n",
              "      <th>6223</th>\n",
              "      <td>2019</td>\n",
              "      <td>124999</td>\n",
              "      <td>Automatic</td>\n",
              "      <td>1500</td>\n",
              "      <td>145</td>\n",
              "      <td>31.7</td>\n",
              "      <td>4.0</td>\n",
              "    </tr>\n",
              "    <tr>\n",
              "      <th>4094</th>\n",
              "      <td>2019</td>\n",
              "      <td>124366</td>\n",
              "      <td>Semi-Auto</td>\n",
              "      <td>880</td>\n",
              "      <td>145</td>\n",
              "      <td>24.8</td>\n",
              "      <td>4.0</td>\n",
              "    </tr>\n",
              "    <tr>\n",
              "      <th>2629</th>\n",
              "      <td>2019</td>\n",
              "      <td>123846</td>\n",
              "      <td>Semi-Auto</td>\n",
              "      <td>2951</td>\n",
              "      <td>145</td>\n",
              "      <td>22.1</td>\n",
              "      <td>4.0</td>\n",
              "    </tr>\n",
              "    <tr>\n",
              "      <th>7134</th>\n",
              "      <td>2019</td>\n",
              "      <td>115359</td>\n",
              "      <td>Semi-Auto</td>\n",
              "      <td>1000</td>\n",
              "      <td>145</td>\n",
              "      <td>30.1</td>\n",
              "      <td>4.0</td>\n",
              "    </tr>\n",
              "    <tr>\n",
              "      <th>9159</th>\n",
              "      <td>2019</td>\n",
              "      <td>114199</td>\n",
              "      <td>Semi-Auto</td>\n",
              "      <td>891</td>\n",
              "      <td>145</td>\n",
              "      <td>22.6</td>\n",
              "      <td>4.0</td>\n",
              "    </tr>\n",
              "    <tr>\n",
              "      <th>1980</th>\n",
              "      <td>2019</td>\n",
              "      <td>109995</td>\n",
              "      <td>Semi-Auto</td>\n",
              "      <td>4688</td>\n",
              "      <td>150</td>\n",
              "      <td>31.7</td>\n",
              "      <td>4.0</td>\n",
              "    </tr>\n",
              "  </tbody>\n",
              "</table>\n",
              "</div>\n",
              "      <button class=\"colab-df-convert\" onclick=\"convertToInteractive('df-d81111b2-0684-409f-8da7-4bcd3861391c')\"\n",
              "              title=\"Convert this dataframe to an interactive table.\"\n",
              "              style=\"display:none;\">\n",
              "        \n",
              "  <svg xmlns=\"http://www.w3.org/2000/svg\" height=\"24px\"viewBox=\"0 0 24 24\"\n",
              "       width=\"24px\">\n",
              "    <path d=\"M0 0h24v24H0V0z\" fill=\"none\"/>\n",
              "    <path d=\"M18.56 5.44l.94 2.06.94-2.06 2.06-.94-2.06-.94-.94-2.06-.94 2.06-2.06.94zm-11 1L8.5 8.5l.94-2.06 2.06-.94-2.06-.94L8.5 2.5l-.94 2.06-2.06.94zm10 10l.94 2.06.94-2.06 2.06-.94-2.06-.94-.94-2.06-.94 2.06-2.06.94z\"/><path d=\"M17.41 7.96l-1.37-1.37c-.4-.4-.92-.59-1.43-.59-.52 0-1.04.2-1.43.59L10.3 9.45l-7.72 7.72c-.78.78-.78 2.05 0 2.83L4 21.41c.39.39.9.59 1.41.59.51 0 1.02-.2 1.41-.59l7.78-7.78 2.81-2.81c.8-.78.8-2.07 0-2.86zM5.41 20L4 18.59l7.72-7.72 1.47 1.35L5.41 20z\"/>\n",
              "  </svg>\n",
              "      </button>\n",
              "      \n",
              "  <style>\n",
              "    .colab-df-container {\n",
              "      display:flex;\n",
              "      flex-wrap:wrap;\n",
              "      gap: 12px;\n",
              "    }\n",
              "\n",
              "    .colab-df-convert {\n",
              "      background-color: #E8F0FE;\n",
              "      border: none;\n",
              "      border-radius: 50%;\n",
              "      cursor: pointer;\n",
              "      display: none;\n",
              "      fill: #1967D2;\n",
              "      height: 32px;\n",
              "      padding: 0 0 0 0;\n",
              "      width: 32px;\n",
              "    }\n",
              "\n",
              "    .colab-df-convert:hover {\n",
              "      background-color: #E2EBFA;\n",
              "      box-shadow: 0px 1px 2px rgba(60, 64, 67, 0.3), 0px 1px 3px 1px rgba(60, 64, 67, 0.15);\n",
              "      fill: #174EA6;\n",
              "    }\n",
              "\n",
              "    [theme=dark] .colab-df-convert {\n",
              "      background-color: #3B4455;\n",
              "      fill: #D2E3FC;\n",
              "    }\n",
              "\n",
              "    [theme=dark] .colab-df-convert:hover {\n",
              "      background-color: #434B5C;\n",
              "      box-shadow: 0px 1px 3px 1px rgba(0, 0, 0, 0.15);\n",
              "      filter: drop-shadow(0px 1px 2px rgba(0, 0, 0, 0.3));\n",
              "      fill: #FFFFFF;\n",
              "    }\n",
              "  </style>\n",
              "\n",
              "      <script>\n",
              "        const buttonEl =\n",
              "          document.querySelector('#df-d81111b2-0684-409f-8da7-4bcd3861391c button.colab-df-convert');\n",
              "        buttonEl.style.display =\n",
              "          google.colab.kernel.accessAllowed ? 'block' : 'none';\n",
              "\n",
              "        async function convertToInteractive(key) {\n",
              "          const element = document.querySelector('#df-d81111b2-0684-409f-8da7-4bcd3861391c');\n",
              "          const dataTable =\n",
              "            await google.colab.kernel.invokeFunction('convertToInteractive',\n",
              "                                                     [key], {});\n",
              "          if (!dataTable) return;\n",
              "\n",
              "          const docLinkHtml = 'Like what you see? Visit the ' +\n",
              "            '<a target=\"_blank\" href=https://colab.research.google.com/notebooks/data_table.ipynb>data table notebook</a>'\n",
              "            + ' to learn more about interactive tables.';\n",
              "          element.innerHTML = '';\n",
              "          dataTable['output_type'] = 'display_data';\n",
              "          await google.colab.output.renderOutput(dataTable, element);\n",
              "          const docLink = document.createElement('div');\n",
              "          docLink.innerHTML = docLinkHtml;\n",
              "          element.appendChild(docLink);\n",
              "        }\n",
              "      </script>\n",
              "    </div>\n",
              "  </div>\n",
              "  "
            ],
            "text/plain": [
              "       year   price transmission  mileage  tax   mpg  engineSize\n",
              "6199   2020  159999    Semi-Auto     1350  145  21.4         4.0\n",
              "10044  2020  154998    Automatic     3000  150  21.4         4.0\n",
              "5      2011  149948    Automatic     3000  570  21.4         6.2\n",
              "8737   2019  140319    Semi-Auto      785  150  22.1         4.0\n",
              "6386   2018  139995    Semi-Auto    13046  145  21.4         4.0\n",
              "8      2019  139948    Automatic    12000  145  21.4         4.0\n",
              "9133   2019  139559    Semi-Auto     1000  145  22.1         4.0\n",
              "8821   2020  138439    Semi-Auto     1000  145  22.1         4.0\n",
              "5902   2018  135771    Semi-Auto    19000  145  21.4         4.0\n",
              "7864   2018  135124    Semi-Auto    18234  150  21.4         4.0\n",
              "8673   2019  134219    Semi-Auto     1000  145  24.8         4.0\n",
              "6210   2019  129990    Automatic     1000  145  24.8         4.0\n",
              "4759   2019  126000    Automatic      250  145  24.6         4.0\n",
              "2647   2019  125796    Automatic      637  145  24.8         4.0\n",
              "6223   2019  124999    Automatic     1500  145  31.7         4.0\n",
              "4094   2019  124366    Semi-Auto      880  145  24.8         4.0\n",
              "2629   2019  123846    Semi-Auto     2951  145  22.1         4.0\n",
              "7134   2019  115359    Semi-Auto     1000  145  30.1         4.0\n",
              "9159   2019  114199    Semi-Auto      891  145  22.6         4.0\n",
              "1980   2019  109995    Semi-Auto     4688  150  31.7         4.0"
            ]
          },
          "execution_count": 113,
          "metadata": {},
          "output_type": "execute_result"
        }
      ],
      "source": [
        "df.sort_values(\"price\", ascending = False).head(20)"
      ]
    },
    {
      "cell_type": "code",
      "execution_count": 114,
      "metadata": {
        "colab": {
          "base_uri": "https://localhost:8080/"
        },
        "id": "4iW3mxbe-0kY",
        "outputId": "08c3e6a5-9a7e-4656-a727-5e7008a3b01e"
      },
      "outputs": [
        {
          "name": "stdout",
          "output_type": "stream",
          "text": [
            "Length of Dataset: 13119 Length of 1% of the Dataset:  131\n"
          ]
        }
      ],
      "source": [
        "print(\"Length of Dataset:\",len(df) , \"Length of 1% of the Dataset: \",round(len(df) * 0.01))"
      ]
    },
    {
      "cell_type": "code",
      "execution_count": 115,
      "metadata": {
        "id": "wbgK2m9N_C1D"
      },
      "outputs": [],
      "source": [
        "df_without_expensive_cars = df.sort_values(\"price\", ascending = False).iloc[131:]"
      ]
    },
    {
      "cell_type": "code",
      "execution_count": 116,
      "metadata": {
        "colab": {
          "base_uri": "https://localhost:8080/",
          "height": 674
        },
        "id": "QQy_g8RDALZV",
        "outputId": "dc76fa99-5204-4289-e7c5-5986b1011b24"
      },
      "outputs": [
        {
          "data": {
            "text/plain": [
              "<seaborn.axisgrid.FacetGrid at 0x7f73f99871c0>"
            ]
          },
          "execution_count": 116,
          "metadata": {},
          "output_type": "execute_result"
        },
        {
          "data": {
            "image/png": "[encoded data removed]",
            "text/plain": [
              "<Figure size 745.2x648 with 1 Axes>"
            ]
          },
          "metadata": {
            "needs_background": "light"
          },
          "output_type": "display_data"
        }
      ],
      "source": [
        "sns.displot(df_without_expensive_cars[\"price\"], height=9, aspect=1.15)"
      ]
    },
    {
      "cell_type": "markdown",
      "metadata": {
        "id": "fTx17x45PvLh"
      },
      "source": [
        "Although we lost 1% of our data, we now have a more regular data set in terms of price feature."
      ]
    },
    {
      "cell_type": "code",
      "execution_count": 117,
      "metadata": {
        "colab": {
          "base_uri": "https://localhost:8080/"
        },
        "id": "QrZBoxG9ASWq",
        "outputId": "ff990c7d-5c9d-45b1-e0fa-f53ec6c78c44"
      },
      "outputs": [
        {
          "data": {
            "text/plain": [
              "year\n",
              "1970    24999.000000\n",
              "1997     9995.000000\n",
              "1998     8605.000000\n",
              "1999     5995.000000\n",
              "2000     5743.333333\n",
              "2001     4957.900000\n",
              "2002     5820.444444\n",
              "2003     4878.000000\n",
              "2004     4727.615385\n",
              "2005     4426.111111\n",
              "2006     4036.875000\n",
              "2007     5136.045455\n",
              "2008     6967.437500\n",
              "2009     6166.764706\n",
              "2010     8308.473684\n",
              "2011    12624.894737\n",
              "2012    10845.140351\n",
              "2013    11939.842466\n",
              "2014    14042.936864\n",
              "2015    16731.780020\n",
              "2016    19307.892948\n",
              "2017    21514.307854\n",
              "2018    25720.162918\n",
              "2019    31290.020865\n",
              "2020    35433.282337\n",
              "Name: price, dtype: float64"
            ]
          },
          "execution_count": 117,
          "metadata": {},
          "output_type": "execute_result"
        }
      ],
      "source": [
        "df.groupby(\"year\").mean()[\"price\"]"
      ]
    },
    {
      "cell_type": "markdown",
      "metadata": {
        "id": "KVx_diVXQOaq"
      },
      "source": [
        "When we look at the data above, the closer the years in which the cars were produced to the present, the higher their prices. But as an exception, the prices of the cars produced in 1970 are out of order and the prices are quite high. \n",
        "\n",
        "Due to some special reasons, such extreme deviations may occur in our data. Similar to what I did above, we will also extract this data from our dataset."
      ]
    },
    {
      "cell_type": "code",
      "execution_count": 118,
      "metadata": {
        "id": "k7hEwQWOAfdi"
      },
      "outputs": [],
      "source": [
        "df_without_expensive_cars_and_1970 = df_without_expensive_cars[df_without_expensive_cars.year != 1970]"
      ]
    },
    {
      "cell_type": "markdown",
      "metadata": {
        "id": "wzWcWxvqR4RR"
      },
      "source": [
        "Let's assign the df_without_expensive_cars_and_1970 variable to the df variable to make our job easier."
      ]
    },
    {
      "cell_type": "code",
      "execution_count": 119,
      "metadata": {
        "colab": {
          "base_uri": "https://localhost:8080/"
        },
        "id": "VbViBlGbBDnA",
        "outputId": "1573256c-2b07-44b6-8f44-4fd64a067780"
      },
      "outputs": [
        {
          "data": {
            "text/plain": [
              "year\n",
              "1997     9995.000000\n",
              "1998     8605.000000\n",
              "1999     5995.000000\n",
              "2000     5743.333333\n",
              "2001     4957.900000\n",
              "2002     5820.444444\n",
              "2003     4878.000000\n",
              "2004     4727.615385\n",
              "2005     4426.111111\n",
              "2006     4036.875000\n",
              "2007     5136.045455\n",
              "2008     6967.437500\n",
              "2009     6166.764706\n",
              "2010     8308.473684\n",
              "2011     8913.459459\n",
              "2012    10845.140351\n",
              "2013    11939.842466\n",
              "2014    14042.936864\n",
              "2015    16647.822222\n",
              "2016    19223.558943\n",
              "2017    21356.280421\n",
              "2018    24800.844506\n",
              "2019    30289.524832\n",
              "2020    34234.794872\n",
              "Name: price, dtype: float64"
            ]
          },
          "execution_count": 119,
          "metadata": {},
          "output_type": "execute_result"
        }
      ],
      "source": [
        "df = df_without_expensive_cars_and_1970\n",
        "df.groupby(\"year\").mean()[\"price\"]"
      ]
    },
    {
      "cell_type": "code",
      "execution_count": 120,
      "metadata": {
        "colab": {
          "base_uri": "https://localhost:8080/",
          "height": 206
        },
        "id": "D6clK9_ABaKI",
        "outputId": "57b1f17f-3b12-4049-a296-176ca961addb"
      },
      "outputs": [
        {
          "data": {
            "text/html": [
              "\n",
              "  <div id=\"df-6cfdb73e-9158-4115-b749-e47e219ded82\">\n",
              "    <div class=\"colab-df-container\">\n",
              "      <div>\n",
              "<style scoped>\n",
              "    .dataframe tbody tr th:only-of-type {\n",
              "        vertical-align: middle;\n",
              "    }\n",
              "\n",
              "    .dataframe tbody tr th {\n",
              "        vertical-align: top;\n",
              "    }\n",
              "\n",
              "    .dataframe thead th {\n",
              "        text-align: right;\n",
              "    }\n",
              "</style>\n",
              "<table border=\"1\" class=\"dataframe\">\n",
              "  <thead>\n",
              "    <tr style=\"text-align: right;\">\n",
              "      <th></th>\n",
              "      <th>year</th>\n",
              "      <th>price</th>\n",
              "      <th>transmission</th>\n",
              "      <th>mileage</th>\n",
              "      <th>tax</th>\n",
              "      <th>mpg</th>\n",
              "      <th>engineSize</th>\n",
              "    </tr>\n",
              "  </thead>\n",
              "  <tbody>\n",
              "    <tr>\n",
              "      <th>6177</th>\n",
              "      <td>2019</td>\n",
              "      <td>65990</td>\n",
              "      <td>Semi-Auto</td>\n",
              "      <td>5076</td>\n",
              "      <td>150</td>\n",
              "      <td>30.4</td>\n",
              "      <td>3.0</td>\n",
              "    </tr>\n",
              "    <tr>\n",
              "      <th>5779</th>\n",
              "      <td>2020</td>\n",
              "      <td>65990</td>\n",
              "      <td>Semi-Auto</td>\n",
              "      <td>999</td>\n",
              "      <td>145</td>\n",
              "      <td>28.0</td>\n",
              "      <td>4.0</td>\n",
              "    </tr>\n",
              "    <tr>\n",
              "      <th>3191</th>\n",
              "      <td>2020</td>\n",
              "      <td>65980</td>\n",
              "      <td>Semi-Auto</td>\n",
              "      <td>3999</td>\n",
              "      <td>145</td>\n",
              "      <td>28.0</td>\n",
              "      <td>4.0</td>\n",
              "    </tr>\n",
              "    <tr>\n",
              "      <th>4727</th>\n",
              "      <td>2019</td>\n",
              "      <td>65000</td>\n",
              "      <td>Semi-Auto</td>\n",
              "      <td>3398</td>\n",
              "      <td>145</td>\n",
              "      <td>27.2</td>\n",
              "      <td>4.0</td>\n",
              "    </tr>\n",
              "    <tr>\n",
              "      <th>8814</th>\n",
              "      <td>2019</td>\n",
              "      <td>64999</td>\n",
              "      <td>Semi-Auto</td>\n",
              "      <td>119</td>\n",
              "      <td>145</td>\n",
              "      <td>40.9</td>\n",
              "      <td>3.0</td>\n",
              "    </tr>\n",
              "  </tbody>\n",
              "</table>\n",
              "</div>\n",
              "      <button class=\"colab-df-convert\" onclick=\"convertToInteractive('df-6cfdb73e-9158-4115-b749-e47e219ded82')\"\n",
              "              title=\"Convert this dataframe to an interactive table.\"\n",
              "              style=\"display:none;\">\n",
              "        \n",
              "  <svg xmlns=\"http://www.w3.org/2000/svg\" height=\"24px\"viewBox=\"0 0 24 24\"\n",
              "       width=\"24px\">\n",
              "    <path d=\"M0 0h24v24H0V0z\" fill=\"none\"/>\n",
              "    <path d=\"M18.56 5.44l.94 2.06.94-2.06 2.06-.94-2.06-.94-.94-2.06-.94 2.06-2.06.94zm-11 1L8.5 8.5l.94-2.06 2.06-.94-2.06-.94L8.5 2.5l-.94 2.06-2.06.94zm10 10l.94 2.06.94-2.06 2.06-.94-2.06-.94-.94-2.06-.94 2.06-2.06.94z\"/><path d=\"M17.41 7.96l-1.37-1.37c-.4-.4-.92-.59-1.43-.59-.52 0-1.04.2-1.43.59L10.3 9.45l-7.72 7.72c-.78.78-.78 2.05 0 2.83L4 21.41c.39.39.9.59 1.41.59.51 0 1.02-.2 1.41-.59l7.78-7.78 2.81-2.81c.8-.78.8-2.07 0-2.86zM5.41 20L4 18.59l7.72-7.72 1.47 1.35L5.41 20z\"/>\n",
              "  </svg>\n",
              "      </button>\n",
              "      \n",
              "  <style>\n",
              "    .colab-df-container {\n",
              "      display:flex;\n",
              "      flex-wrap:wrap;\n",
              "      gap: 12px;\n",
              "    }\n",
              "\n",
              "    .colab-df-convert {\n",
              "      background-color: #E8F0FE;\n",
              "      border: none;\n",
              "      border-radius: 50%;\n",
              "      cursor: pointer;\n",
              "      display: none;\n",
              "      fill: #1967D2;\n",
              "      height: 32px;\n",
              "      padding: 0 0 0 0;\n",
              "      width: 32px;\n",
              "    }\n",
              "\n",
              "    .colab-df-convert:hover {\n",
              "      background-color: #E2EBFA;\n",
              "      box-shadow: 0px 1px 2px rgba(60, 64, 67, 0.3), 0px 1px 3px 1px rgba(60, 64, 67, 0.15);\n",
              "      fill: #174EA6;\n",
              "    }\n",
              "\n",
              "    [theme=dark] .colab-df-convert {\n",
              "      background-color: #3B4455;\n",
              "      fill: #D2E3FC;\n",
              "    }\n",
              "\n",
              "    [theme=dark] .colab-df-convert:hover {\n",
              "      background-color: #434B5C;\n",
              "      box-shadow: 0px 1px 3px 1px rgba(0, 0, 0, 0.15);\n",
              "      filter: drop-shadow(0px 1px 2px rgba(0, 0, 0, 0.3));\n",
              "      fill: #FFFFFF;\n",
              "    }\n",
              "  </style>\n",
              "\n",
              "      <script>\n",
              "        const buttonEl =\n",
              "          document.querySelector('#df-6cfdb73e-9158-4115-b749-e47e219ded82 button.colab-df-convert');\n",
              "        buttonEl.style.display =\n",
              "          google.colab.kernel.accessAllowed ? 'block' : 'none';\n",
              "\n",
              "        async function convertToInteractive(key) {\n",
              "          const element = document.querySelector('#df-6cfdb73e-9158-4115-b749-e47e219ded82');\n",
              "          const dataTable =\n",
              "            await google.colab.kernel.invokeFunction('convertToInteractive',\n",
              "                                                     [key], {});\n",
              "          if (!dataTable) return;\n",
              "\n",
              "          const docLinkHtml = 'Like what you see? Visit the ' +\n",
              "            '<a target=\"_blank\" href=https://colab.research.google.com/notebooks/data_table.ipynb>data table notebook</a>'\n",
              "            + ' to learn more about interactive tables.';\n",
              "          element.innerHTML = '';\n",
              "          dataTable['output_type'] = 'display_data';\n",
              "          await google.colab.output.renderOutput(dataTable, element);\n",
              "          const docLink = document.createElement('div');\n",
              "          docLink.innerHTML = docLinkHtml;\n",
              "          element.appendChild(docLink);\n",
              "        }\n",
              "      </script>\n",
              "    </div>\n",
              "  </div>\n",
              "  "
            ],
            "text/plain": [
              "      year  price transmission  mileage  tax   mpg  engineSize\n",
              "6177  2019  65990    Semi-Auto     5076  150  30.4         3.0\n",
              "5779  2020  65990    Semi-Auto      999  145  28.0         4.0\n",
              "3191  2020  65980    Semi-Auto     3999  145  28.0         4.0\n",
              "4727  2019  65000    Semi-Auto     3398  145  27.2         4.0\n",
              "8814  2019  64999    Semi-Auto      119  145  40.9         3.0"
            ]
          },
          "execution_count": 120,
          "metadata": {},
          "output_type": "execute_result"
        }
      ],
      "source": [
        "df.head()"
      ]
    },
    {
      "cell_type": "markdown",
      "metadata": {
        "id": "sWspGyBxSfX8"
      },
      "source": [
        "We will remove our \"transmission\" feature from our data set as it is non-numeric."
      ]
    },
    {
      "cell_type": "code",
      "execution_count": 121,
      "metadata": {
        "colab": {
          "base_uri": "https://localhost:8080/",
          "height": 206
        },
        "id": "6PwHBJn8CYmO",
        "outputId": "f1c937a8-0e98-4d42-c09a-ec070ea07c26"
      },
      "outputs": [
        {
          "data": {
            "text/html": [
              "\n",
              "  <div id=\"df-ca343fd8-50f2-4efd-9c0b-8b653b2d93d2\">\n",
              "    <div class=\"colab-df-container\">\n",
              "      <div>\n",
              "<style scoped>\n",
              "    .dataframe tbody tr th:only-of-type {\n",
              "        vertical-align: middle;\n",
              "    }\n",
              "\n",
              "    .dataframe tbody tr th {\n",
              "        vertical-align: top;\n",
              "    }\n",
              "\n",
              "    .dataframe thead th {\n",
              "        text-align: right;\n",
              "    }\n",
              "</style>\n",
              "<table border=\"1\" class=\"dataframe\">\n",
              "  <thead>\n",
              "    <tr style=\"text-align: right;\">\n",
              "      <th></th>\n",
              "      <th>year</th>\n",
              "      <th>price</th>\n",
              "      <th>mileage</th>\n",
              "      <th>tax</th>\n",
              "      <th>mpg</th>\n",
              "      <th>engineSize</th>\n",
              "    </tr>\n",
              "  </thead>\n",
              "  <tbody>\n",
              "    <tr>\n",
              "      <th>6177</th>\n",
              "      <td>2019</td>\n",
              "      <td>65990</td>\n",
              "      <td>5076</td>\n",
              "      <td>150</td>\n",
              "      <td>30.4</td>\n",
              "      <td>3.0</td>\n",
              "    </tr>\n",
              "    <tr>\n",
              "      <th>5779</th>\n",
              "      <td>2020</td>\n",
              "      <td>65990</td>\n",
              "      <td>999</td>\n",
              "      <td>145</td>\n",
              "      <td>28.0</td>\n",
              "      <td>4.0</td>\n",
              "    </tr>\n",
              "    <tr>\n",
              "      <th>3191</th>\n",
              "      <td>2020</td>\n",
              "      <td>65980</td>\n",
              "      <td>3999</td>\n",
              "      <td>145</td>\n",
              "      <td>28.0</td>\n",
              "      <td>4.0</td>\n",
              "    </tr>\n",
              "    <tr>\n",
              "      <th>4727</th>\n",
              "      <td>2019</td>\n",
              "      <td>65000</td>\n",
              "      <td>3398</td>\n",
              "      <td>145</td>\n",
              "      <td>27.2</td>\n",
              "      <td>4.0</td>\n",
              "    </tr>\n",
              "    <tr>\n",
              "      <th>8814</th>\n",
              "      <td>2019</td>\n",
              "      <td>64999</td>\n",
              "      <td>119</td>\n",
              "      <td>145</td>\n",
              "      <td>40.9</td>\n",
              "      <td>3.0</td>\n",
              "    </tr>\n",
              "  </tbody>\n",
              "</table>\n",
              "</div>\n",
              "      <button class=\"colab-df-convert\" onclick=\"convertToInteractive('df-ca343fd8-50f2-4efd-9c0b-8b653b2d93d2')\"\n",
              "              title=\"Convert this dataframe to an interactive table.\"\n",
              "              style=\"display:none;\">\n",
              "        \n",
              "  <svg xmlns=\"http://www.w3.org/2000/svg\" height=\"24px\"viewBox=\"0 0 24 24\"\n",
              "       width=\"24px\">\n",
              "    <path d=\"M0 0h24v24H0V0z\" fill=\"none\"/>\n",
              "    <path d=\"M18.56 5.44l.94 2.06.94-2.06 2.06-.94-2.06-.94-.94-2.06-.94 2.06-2.06.94zm-11 1L8.5 8.5l.94-2.06 2.06-.94-2.06-.94L8.5 2.5l-.94 2.06-2.06.94zm10 10l.94 2.06.94-2.06 2.06-.94-2.06-.94-.94-2.06-.94 2.06-2.06.94z\"/><path d=\"M17.41 7.96l-1.37-1.37c-.4-.4-.92-.59-1.43-.59-.52 0-1.04.2-1.43.59L10.3 9.45l-7.72 7.72c-.78.78-.78 2.05 0 2.83L4 21.41c.39.39.9.59 1.41.59.51 0 1.02-.2 1.41-.59l7.78-7.78 2.81-2.81c.8-.78.8-2.07 0-2.86zM5.41 20L4 18.59l7.72-7.72 1.47 1.35L5.41 20z\"/>\n",
              "  </svg>\n",
              "      </button>\n",
              "      \n",
              "  <style>\n",
              "    .colab-df-container {\n",
              "      display:flex;\n",
              "      flex-wrap:wrap;\n",
              "      gap: 12px;\n",
              "    }\n",
              "\n",
              "    .colab-df-convert {\n",
              "      background-color: #E8F0FE;\n",
              "      border: none;\n",
              "      border-radius: 50%;\n",
              "      cursor: pointer;\n",
              "      display: none;\n",
              "      fill: #1967D2;\n",
              "      height: 32px;\n",
              "      padding: 0 0 0 0;\n",
              "      width: 32px;\n",
              "    }\n",
              "\n",
              "    .colab-df-convert:hover {\n",
              "      background-color: #E2EBFA;\n",
              "      box-shadow: 0px 1px 2px rgba(60, 64, 67, 0.3), 0px 1px 3px 1px rgba(60, 64, 67, 0.15);\n",
              "      fill: #174EA6;\n",
              "    }\n",
              "\n",
              "    [theme=dark] .colab-df-convert {\n",
              "      background-color: #3B4455;\n",
              "      fill: #D2E3FC;\n",
              "    }\n",
              "\n",
              "    [theme=dark] .colab-df-convert:hover {\n",
              "      background-color: #434B5C;\n",
              "      box-shadow: 0px 1px 3px 1px rgba(0, 0, 0, 0.15);\n",
              "      filter: drop-shadow(0px 1px 2px rgba(0, 0, 0, 0.3));\n",
              "      fill: #FFFFFF;\n",
              "    }\n",
              "  </style>\n",
              "\n",
              "      <script>\n",
              "        const buttonEl =\n",
              "          document.querySelector('#df-ca343fd8-50f2-4efd-9c0b-8b653b2d93d2 button.colab-df-convert');\n",
              "        buttonEl.style.display =\n",
              "          google.colab.kernel.accessAllowed ? 'block' : 'none';\n",
              "\n",
              "        async function convertToInteractive(key) {\n",
              "          const element = document.querySelector('#df-ca343fd8-50f2-4efd-9c0b-8b653b2d93d2');\n",
              "          const dataTable =\n",
              "            await google.colab.kernel.invokeFunction('convertToInteractive',\n",
              "                                                     [key], {});\n",
              "          if (!dataTable) return;\n",
              "\n",
              "          const docLinkHtml = 'Like what you see? Visit the ' +\n",
              "            '<a target=\"_blank\" href=https://colab.research.google.com/notebooks/data_table.ipynb>data table notebook</a>'\n",
              "            + ' to learn more about interactive tables.';\n",
              "          element.innerHTML = '';\n",
              "          dataTable['output_type'] = 'display_data';\n",
              "          await google.colab.output.renderOutput(dataTable, element);\n",
              "          const docLink = document.createElement('div');\n",
              "          docLink.innerHTML = docLinkHtml;\n",
              "          element.appendChild(docLink);\n",
              "        }\n",
              "      </script>\n",
              "    </div>\n",
              "  </div>\n",
              "  "
            ],
            "text/plain": [
              "      year  price  mileage  tax   mpg  engineSize\n",
              "6177  2019  65990     5076  150  30.4         3.0\n",
              "5779  2020  65990      999  145  28.0         4.0\n",
              "3191  2020  65980     3999  145  28.0         4.0\n",
              "4727  2019  65000     3398  145  27.2         4.0\n",
              "8814  2019  64999      119  145  40.9         3.0"
            ]
          },
          "execution_count": 121,
          "metadata": {},
          "output_type": "execute_result"
        }
      ],
      "source": [
        "df = df.drop(\"transmission\", axis=1)\n",
        "df.head()"
      ]
    },
    {
      "cell_type": "markdown",
      "metadata": {
        "id": "iZXUGo4_DpWQ"
      },
      "source": [
        "## Model Building"
      ]
    },
    {
      "cell_type": "markdown",
      "metadata": {
        "id": "Z9U78bjPrSWE"
      },
      "source": [
        "### Splitting The Data Into Train and Test"
      ]
    },
    {
      "cell_type": "code",
      "execution_count": 122,
      "metadata": {
        "id": "fbG8HegMDr6n"
      },
      "outputs": [],
      "source": [
        "y = df[\"price\"].values\n",
        "X = df.drop(\"price\",axis=1).values"
      ]
    },
    {
      "cell_type": "code",
      "execution_count": 123,
      "metadata": {
        "id": "ZsrIOqGRENCV"
      },
      "outputs": [],
      "source": [
        "from sklearn.model_selection import train_test_split"
      ]
    },
    {
      "cell_type": "code",
      "execution_count": 124,
      "metadata": {
        "id": "fPAnalf9ETGA"
      },
      "outputs": [],
      "source": [
        "X_train, X_test, y_train, y_test = train_test_split(X, y, test_size=0.3, random_state=10)"
      ]
    },
    {
      "cell_type": "code",
      "execution_count": 125,
      "metadata": {
        "colab": {
          "base_uri": "https://localhost:8080/"
        },
        "id": "PnQaC4brEgnr",
        "outputId": "5d0915e3-e94e-400d-9578-4ab7abd10846"
      },
      "outputs": [
        {
          "name": "stdout",
          "output_type": "stream",
          "text": [
            "Length of Train: 9090 Length of Test: 3897\n"
          ]
        }
      ],
      "source": [
        "print(\"Length of Train:\",len(X_train),\"Length of Test:\",len(X_test))"
      ]
    },
    {
      "cell_type": "markdown",
      "metadata": {
        "id": "xe5fGy22FGWe"
      },
      "source": [
        "### Scaling The Data"
      ]
    },
    {
      "cell_type": "code",
      "execution_count": 126,
      "metadata": {
        "id": "jO2X9dhEEuqd"
      },
      "outputs": [],
      "source": [
        "from sklearn.preprocessing import MinMaxScaler"
      ]
    },
    {
      "cell_type": "code",
      "execution_count": 127,
      "metadata": {
        "id": "ImAqamokE09L"
      },
      "outputs": [],
      "source": [
        "scaler = MinMaxScaler()"
      ]
    },
    {
      "cell_type": "code",
      "execution_count": 128,
      "metadata": {
        "id": "ubiBhr-jE3_6"
      },
      "outputs": [],
      "source": [
        "X_train = scaler.fit_transform(X_train)"
      ]
    },
    {
      "cell_type": "code",
      "execution_count": 129,
      "metadata": {
        "id": "fVnyI2JOE-RG"
      },
      "outputs": [],
      "source": [
        "X_test = scaler.transform(X_test)"
      ]
    },
    {
      "cell_type": "markdown",
      "metadata": {
        "id": "sk6lvRMeFKHe"
      },
      "source": [
        "### Model Building"
      ]
    },
    {
      "cell_type": "code",
      "execution_count": 130,
      "metadata": {
        "id": "Vs25HchGFLd0"
      },
      "outputs": [],
      "source": [
        "import tensorflow as tf\n",
        "from tensorflow.keras.models import Sequential\n",
        "from tensorflow.keras.layers import Dense"
      ]
    },
    {
      "cell_type": "code",
      "execution_count": 131,
      "metadata": {
        "id": "4tbPFwcbFhhU"
      },
      "outputs": [],
      "source": [
        "model = Sequential()\n",
        "\n",
        "model.add(Dense(units = 12, activation=\"relu\"))\n",
        "model.add(Dense(units = 12, activation=\"relu\"))\n",
        "model.add(Dense(units = 12, activation=\"relu\"))\n",
        "model.add(Dense(units = 12, activation=\"relu\"))\n",
        "\n",
        "model.add(Dense(units = 1))\n",
        "\n",
        "model.compile(optimizer=\"adam\", loss=\"mse\")"
      ]
    },
    {
      "cell_type": "code",
      "execution_count": 132,
      "metadata": {
        "colab": {
          "base_uri": "https://localhost:8080/"
        },
        "id": "bHJbqbtAGN4A",
        "outputId": "66fb8c3c-45aa-4e98-9202-b65018f22e86"
      },
      "outputs": [
        {
          "name": "stdout",
          "output_type": "stream",
          "text": [
            "Epoch 1/300\n",
            "37/37 [==============================] - 1s 9ms/step - loss: 672154688.0000 - val_loss: 688107904.0000\n",
            "Epoch 2/300\n",
            "37/37 [==============================] - 0s 4ms/step - loss: 672128896.0000 - val_loss: 688074496.0000\n",
            "Epoch 3/300\n",
            "37/37 [==============================] - 0s 5ms/step - loss: 672072192.0000 - val_loss: 687971264.0000\n",
            "Epoch 4/300\n",
            "37/37 [==============================] - 0s 4ms/step - loss: 671878720.0000 - val_loss: 687630528.0000\n",
            "Epoch 5/300\n",
            "37/37 [==============================] - 0s 3ms/step - loss: 671261440.0000 - val_loss: 686579264.0000\n",
            "Epoch 6/300\n",
            "37/37 [==============================] - 0s 4ms/step - loss: 669504640.0000 - val_loss: 683748352.0000\n",
            "Epoch 7/300\n",
            "37/37 [==============================] - 0s 4ms/step - loss: 665270400.0000 - val_loss: 677528384.0000\n",
            "Epoch 8/300\n",
            "37/37 [==============================] - 0s 4ms/step - loss: 656654400.0000 - val_loss: 665558720.0000\n",
            "Epoch 9/300\n",
            "37/37 [==============================] - 0s 5ms/step - loss: 640986752.0000 - val_loss: 644845440.0000\n",
            "Epoch 10/300\n",
            "37/37 [==============================] - 0s 4ms/step - loss: 615156032.0000 - val_loss: 612028928.0000\n",
            "Epoch 11/300\n",
            "37/37 [==============================] - 0s 5ms/step - loss: 575828864.0000 - val_loss: 564011136.0000\n",
            "Epoch 12/300\n",
            "37/37 [==============================] - 0s 4ms/step - loss: 520676576.0000 - val_loss: 499264096.0000\n",
            "Epoch 13/300\n",
            "37/37 [==============================] - 0s 5ms/step - loss: 449471680.0000 - val_loss: 419353504.0000\n",
            "Epoch 14/300\n",
            "37/37 [==============================] - 0s 5ms/step - loss: 365736992.0000 - val_loss: 330247808.0000\n",
            "Epoch 15/300\n",
            "37/37 [==============================] - 0s 4ms/step - loss: 278173184.0000 - val_loss: 242732832.0000\n",
            "Epoch 16/300\n",
            "37/37 [==============================] - 0s 4ms/step - loss: 198426592.0000 - val_loss: 169796320.0000\n",
            "Epoch 17/300\n",
            "37/37 [==============================] - 0s 5ms/step - loss: 139035600.0000 - val_loss: 121881920.0000\n",
            "Epoch 18/300\n",
            "37/37 [==============================] - 0s 4ms/step - loss: 105632232.0000 - val_loss: 99399760.0000\n",
            "Epoch 19/300\n",
            "37/37 [==============================] - 0s 4ms/step - loss: 92230576.0000 - val_loss: 91513008.0000\n",
            "Epoch 20/300\n",
            "37/37 [==============================] - 0s 5ms/step - loss: 88145920.0000 - val_loss: 89210512.0000\n",
            "Epoch 21/300\n",
            "37/37 [==============================] - 0s 5ms/step - loss: 86906832.0000 - val_loss: 88198224.0000\n",
            "Epoch 22/300\n",
            "37/37 [==============================] - 0s 5ms/step - loss: 86259016.0000 - val_loss: 87536384.0000\n",
            "Epoch 23/300\n",
            "37/37 [==============================] - 0s 4ms/step - loss: 85695616.0000 - val_loss: 86966424.0000\n",
            "Epoch 24/300\n",
            "37/37 [==============================] - 0s 5ms/step - loss: 85169368.0000 - val_loss: 86458272.0000\n",
            "Epoch 25/300\n",
            "37/37 [==============================] - 0s 5ms/step - loss: 84655264.0000 - val_loss: 85924816.0000\n",
            "Epoch 26/300\n",
            "37/37 [==============================] - 0s 4ms/step - loss: 84150624.0000 - val_loss: 85453280.0000\n",
            "Epoch 27/300\n",
            "37/37 [==============================] - 0s 4ms/step - loss: 83662680.0000 - val_loss: 84965952.0000\n",
            "Epoch 28/300\n",
            "37/37 [==============================] - 0s 4ms/step - loss: 83177304.0000 - val_loss: 84494176.0000\n",
            "Epoch 29/300\n",
            "37/37 [==============================] - 0s 4ms/step - loss: 82699960.0000 - val_loss: 84010208.0000\n",
            "Epoch 30/300\n",
            "37/37 [==============================] - 0s 4ms/step - loss: 82218288.0000 - val_loss: 83536760.0000\n",
            "Epoch 31/300\n",
            "37/37 [==============================] - 0s 5ms/step - loss: 81741272.0000 - val_loss: 83043648.0000\n",
            "Epoch 32/300\n",
            "37/37 [==============================] - 0s 4ms/step - loss: 81265288.0000 - val_loss: 82589560.0000\n",
            "Epoch 33/300\n",
            "37/37 [==============================] - 0s 5ms/step - loss: 80789880.0000 - val_loss: 82097496.0000\n",
            "Epoch 34/300\n",
            "37/37 [==============================] - 0s 5ms/step - loss: 80310736.0000 - val_loss: 81631792.0000\n",
            "Epoch 35/300\n",
            "37/37 [==============================] - 0s 5ms/step - loss: 79830512.0000 - val_loss: 81161352.0000\n",
            "Epoch 36/300\n",
            "37/37 [==============================] - 0s 4ms/step - loss: 79347224.0000 - val_loss: 80673488.0000\n",
            "Epoch 37/300\n",
            "37/37 [==============================] - 0s 4ms/step - loss: 78867072.0000 - val_loss: 80182944.0000\n",
            "Epoch 38/300\n",
            "37/37 [==============================] - 0s 7ms/step - loss: 78376832.0000 - val_loss: 79707120.0000\n",
            "Epoch 39/300\n",
            "37/37 [==============================] - 0s 6ms/step - loss: 77885952.0000 - val_loss: 79227568.0000\n",
            "Epoch 40/300\n",
            "37/37 [==============================] - 0s 6ms/step - loss: 77390208.0000 - val_loss: 78716592.0000\n",
            "Epoch 41/300\n",
            "37/37 [==============================] - 0s 7ms/step - loss: 76890256.0000 - val_loss: 78222552.0000\n",
            "Epoch 42/300\n",
            "37/37 [==============================] - 0s 6ms/step - loss: 76388496.0000 - val_loss: 77719464.0000\n",
            "Epoch 43/300\n",
            "37/37 [==============================] - 0s 7ms/step - loss: 75879224.0000 - val_loss: 77202280.0000\n",
            "Epoch 44/300\n",
            "37/37 [==============================] - 0s 8ms/step - loss: 75372280.0000 - val_loss: 76682976.0000\n",
            "Epoch 45/300\n",
            "37/37 [==============================] - 0s 7ms/step - loss: 74856392.0000 - val_loss: 76180784.0000\n",
            "Epoch 46/300\n",
            "37/37 [==============================] - 0s 7ms/step - loss: 74336808.0000 - val_loss: 75652872.0000\n",
            "Epoch 47/300\n",
            "37/37 [==============================] - 0s 7ms/step - loss: 73816704.0000 - val_loss: 75144568.0000\n",
            "Epoch 48/300\n",
            "37/37 [==============================] - 0s 7ms/step - loss: 73288688.0000 - val_loss: 74640240.0000\n",
            "Epoch 49/300\n",
            "37/37 [==============================] - 0s 7ms/step - loss: 72752080.0000 - val_loss: 74093616.0000\n",
            "Epoch 50/300\n",
            "37/37 [==============================] - 0s 8ms/step - loss: 72230432.0000 - val_loss: 73571624.0000\n",
            "Epoch 51/300\n",
            "37/37 [==============================] - 0s 7ms/step - loss: 71684936.0000 - val_loss: 73023864.0000\n",
            "Epoch 52/300\n",
            "37/37 [==============================] - 0s 7ms/step - loss: 71141848.0000 - val_loss: 72498728.0000\n",
            "Epoch 53/300\n",
            "37/37 [==============================] - 0s 5ms/step - loss: 70602968.0000 - val_loss: 71960616.0000\n",
            "Epoch 54/300\n",
            "37/37 [==============================] - 0s 4ms/step - loss: 70046824.0000 - val_loss: 71390504.0000\n",
            "Epoch 55/300\n",
            "37/37 [==============================] - 0s 5ms/step - loss: 69527384.0000 - val_loss: 70838216.0000\n",
            "Epoch 56/300\n",
            "37/37 [==============================] - 0s 5ms/step - loss: 68944544.0000 - val_loss: 70289704.0000\n",
            "Epoch 57/300\n",
            "37/37 [==============================] - 0s 5ms/step - loss: 68376496.0000 - val_loss: 69741864.0000\n",
            "Epoch 58/300\n",
            "37/37 [==============================] - 0s 5ms/step - loss: 67818992.0000 - val_loss: 69163688.0000\n",
            "Epoch 59/300\n",
            "37/37 [==============================] - 0s 4ms/step - loss: 67264560.0000 - val_loss: 68590840.0000\n",
            "Epoch 60/300\n",
            "37/37 [==============================] - 0s 4ms/step - loss: 66670892.0000 - val_loss: 68057544.0000\n",
            "Epoch 61/300\n",
            "37/37 [==============================] - 0s 4ms/step - loss: 66110388.0000 - val_loss: 67462752.0000\n",
            "Epoch 62/300\n",
            "37/37 [==============================] - 0s 4ms/step - loss: 65528064.0000 - val_loss: 66900528.0000\n",
            "Epoch 63/300\n",
            "37/37 [==============================] - 0s 4ms/step - loss: 64932248.0000 - val_loss: 66312344.0000\n",
            "Epoch 64/300\n",
            "37/37 [==============================] - 0s 5ms/step - loss: 64350504.0000 - val_loss: 65710960.0000\n",
            "Epoch 65/300\n",
            "37/37 [==============================] - 0s 3ms/step - loss: 63765996.0000 - val_loss: 65152944.0000\n",
            "Epoch 66/300\n",
            "37/37 [==============================] - 0s 4ms/step - loss: 63161468.0000 - val_loss: 64540992.0000\n",
            "Epoch 67/300\n",
            "37/37 [==============================] - 0s 5ms/step - loss: 62565712.0000 - val_loss: 63931804.0000\n",
            "Epoch 68/300\n",
            "37/37 [==============================] - 0s 5ms/step - loss: 61965220.0000 - val_loss: 63339712.0000\n",
            "Epoch 69/300\n",
            "37/37 [==============================] - 0s 4ms/step - loss: 61342192.0000 - val_loss: 62729576.0000\n",
            "Epoch 70/300\n",
            "37/37 [==============================] - 0s 4ms/step - loss: 60744488.0000 - val_loss: 62119960.0000\n",
            "Epoch 71/300\n",
            "37/37 [==============================] - 0s 4ms/step - loss: 60121220.0000 - val_loss: 61500596.0000\n",
            "Epoch 72/300\n",
            "37/37 [==============================] - 0s 4ms/step - loss: 59502144.0000 - val_loss: 60862696.0000\n",
            "Epoch 73/300\n",
            "37/37 [==============================] - 0s 4ms/step - loss: 58890636.0000 - val_loss: 60239996.0000\n",
            "Epoch 74/300\n",
            "37/37 [==============================] - 0s 5ms/step - loss: 58228620.0000 - val_loss: 59613128.0000\n",
            "Epoch 75/300\n",
            "37/37 [==============================] - 0s 4ms/step - loss: 57599648.0000 - val_loss: 58968372.0000\n",
            "Epoch 76/300\n",
            "37/37 [==============================] - 0s 5ms/step - loss: 56956092.0000 - val_loss: 58335404.0000\n",
            "Epoch 77/300\n",
            "37/37 [==============================] - 0s 4ms/step - loss: 56296004.0000 - val_loss: 57671352.0000\n",
            "Epoch 78/300\n",
            "37/37 [==============================] - 0s 4ms/step - loss: 55656208.0000 - val_loss: 57028428.0000\n",
            "Epoch 79/300\n",
            "37/37 [==============================] - 0s 5ms/step - loss: 54982948.0000 - val_loss: 56355160.0000\n",
            "Epoch 80/300\n",
            "37/37 [==============================] - 0s 4ms/step - loss: 54317752.0000 - val_loss: 55693832.0000\n",
            "Epoch 81/300\n",
            "37/37 [==============================] - 0s 4ms/step - loss: 53650356.0000 - val_loss: 54998460.0000\n",
            "Epoch 82/300\n",
            "37/37 [==============================] - 0s 4ms/step - loss: 52976772.0000 - val_loss: 54339080.0000\n",
            "Epoch 83/300\n",
            "37/37 [==============================] - 0s 5ms/step - loss: 52296296.0000 - val_loss: 53663612.0000\n",
            "Epoch 84/300\n",
            "37/37 [==============================] - 0s 4ms/step - loss: 51606468.0000 - val_loss: 52960312.0000\n",
            "Epoch 85/300\n",
            "37/37 [==============================] - 0s 4ms/step - loss: 50936688.0000 - val_loss: 52271624.0000\n",
            "Epoch 86/300\n",
            "37/37 [==============================] - 0s 4ms/step - loss: 50229344.0000 - val_loss: 51566320.0000\n",
            "Epoch 87/300\n",
            "37/37 [==============================] - 0s 4ms/step - loss: 49524476.0000 - val_loss: 50866852.0000\n",
            "Epoch 88/300\n",
            "37/37 [==============================] - 0s 4ms/step - loss: 48821872.0000 - val_loss: 50138120.0000\n",
            "Epoch 89/300\n",
            "37/37 [==============================] - 0s 5ms/step - loss: 48107040.0000 - val_loss: 49415624.0000\n",
            "Epoch 90/300\n",
            "37/37 [==============================] - 0s 4ms/step - loss: 47402508.0000 - val_loss: 48708844.0000\n",
            "Epoch 91/300\n",
            "37/37 [==============================] - 0s 5ms/step - loss: 46678772.0000 - val_loss: 47971828.0000\n",
            "Epoch 92/300\n",
            "37/37 [==============================] - 0s 4ms/step - loss: 45960120.0000 - val_loss: 47239080.0000\n",
            "Epoch 93/300\n",
            "37/37 [==============================] - 0s 4ms/step - loss: 45232440.0000 - val_loss: 46500608.0000\n",
            "Epoch 94/300\n",
            "37/37 [==============================] - 0s 4ms/step - loss: 44515388.0000 - val_loss: 45791216.0000\n",
            "Epoch 95/300\n",
            "37/37 [==============================] - 0s 4ms/step - loss: 43779440.0000 - val_loss: 45005620.0000\n",
            "Epoch 96/300\n",
            "37/37 [==============================] - 0s 4ms/step - loss: 43059564.0000 - val_loss: 44285080.0000\n",
            "Epoch 97/300\n",
            "37/37 [==============================] - 0s 5ms/step - loss: 42276052.0000 - val_loss: 43503480.0000\n",
            "Epoch 98/300\n",
            "37/37 [==============================] - 0s 4ms/step - loss: 41553484.0000 - val_loss: 42783928.0000\n",
            "Epoch 99/300\n",
            "37/37 [==============================] - 0s 4ms/step - loss: 40809104.0000 - val_loss: 42007412.0000\n",
            "Epoch 100/300\n",
            "37/37 [==============================] - 0s 5ms/step - loss: 40056776.0000 - val_loss: 41248228.0000\n",
            "Epoch 101/300\n",
            "37/37 [==============================] - 0s 4ms/step - loss: 39319356.0000 - val_loss: 40492268.0000\n",
            "Epoch 102/300\n",
            "37/37 [==============================] - 0s 4ms/step - loss: 38589664.0000 - val_loss: 39741400.0000\n",
            "Epoch 103/300\n",
            "37/37 [==============================] - 0s 4ms/step - loss: 37873704.0000 - val_loss: 39012276.0000\n",
            "Epoch 104/300\n",
            "37/37 [==============================] - 0s 4ms/step - loss: 37161964.0000 - val_loss: 38291852.0000\n",
            "Epoch 105/300\n",
            "37/37 [==============================] - 0s 5ms/step - loss: 36457012.0000 - val_loss: 37601740.0000\n",
            "Epoch 106/300\n",
            "37/37 [==============================] - 0s 4ms/step - loss: 35762476.0000 - val_loss: 36890528.0000\n",
            "Epoch 107/300\n",
            "37/37 [==============================] - 0s 6ms/step - loss: 35090092.0000 - val_loss: 36216756.0000\n",
            "Epoch 108/300\n",
            "37/37 [==============================] - 0s 6ms/step - loss: 34444004.0000 - val_loss: 35561072.0000\n",
            "Epoch 109/300\n",
            "37/37 [==============================] - 0s 4ms/step - loss: 33778680.0000 - val_loss: 34911804.0000\n",
            "Epoch 110/300\n",
            "37/37 [==============================] - 0s 5ms/step - loss: 33189178.0000 - val_loss: 34291336.0000\n",
            "Epoch 111/300\n",
            "37/37 [==============================] - 0s 4ms/step - loss: 32583702.0000 - val_loss: 33702880.0000\n",
            "Epoch 112/300\n",
            "37/37 [==============================] - 0s 5ms/step - loss: 32004512.0000 - val_loss: 33072790.0000\n",
            "Epoch 113/300\n",
            "37/37 [==============================] - 0s 5ms/step - loss: 31438438.0000 - val_loss: 32548990.0000\n",
            "Epoch 114/300\n",
            "37/37 [==============================] - 0s 8ms/step - loss: 30906500.0000 - val_loss: 31975580.0000\n",
            "Epoch 115/300\n",
            "37/37 [==============================] - 0s 9ms/step - loss: 30384180.0000 - val_loss: 31477482.0000\n",
            "Epoch 116/300\n",
            "37/37 [==============================] - 0s 7ms/step - loss: 29871112.0000 - val_loss: 30953418.0000\n",
            "Epoch 117/300\n",
            "37/37 [==============================] - 0s 6ms/step - loss: 29408882.0000 - val_loss: 30475652.0000\n",
            "Epoch 118/300\n",
            "37/37 [==============================] - 0s 8ms/step - loss: 28932418.0000 - val_loss: 30076570.0000\n",
            "Epoch 119/300\n",
            "37/37 [==============================] - 0s 7ms/step - loss: 28498584.0000 - val_loss: 29613310.0000\n",
            "Epoch 120/300\n",
            "37/37 [==============================] - 0s 6ms/step - loss: 28073600.0000 - val_loss: 29162396.0000\n",
            "Epoch 121/300\n",
            "37/37 [==============================] - 0s 6ms/step - loss: 27656302.0000 - val_loss: 28742700.0000\n",
            "Epoch 122/300\n",
            "37/37 [==============================] - 0s 6ms/step - loss: 27239412.0000 - val_loss: 28337848.0000\n",
            "Epoch 123/300\n",
            "37/37 [==============================] - 0s 8ms/step - loss: 26864248.0000 - val_loss: 27960042.0000\n",
            "Epoch 124/300\n",
            "37/37 [==============================] - 0s 7ms/step - loss: 26473506.0000 - val_loss: 27587882.0000\n",
            "Epoch 125/300\n",
            "37/37 [==============================] - 0s 6ms/step - loss: 26112606.0000 - val_loss: 27250818.0000\n",
            "Epoch 126/300\n",
            "37/37 [==============================] - 0s 6ms/step - loss: 25768314.0000 - val_loss: 26907762.0000\n",
            "Epoch 127/300\n",
            "37/37 [==============================] - 0s 6ms/step - loss: 25444264.0000 - val_loss: 26591618.0000\n",
            "Epoch 128/300\n",
            "37/37 [==============================] - 0s 6ms/step - loss: 25142128.0000 - val_loss: 26293884.0000\n",
            "Epoch 129/300\n",
            "37/37 [==============================] - 0s 7ms/step - loss: 24856264.0000 - val_loss: 26013268.0000\n",
            "Epoch 130/300\n",
            "37/37 [==============================] - 0s 6ms/step - loss: 24589210.0000 - val_loss: 25762488.0000\n",
            "Epoch 131/300\n",
            "37/37 [==============================] - 0s 7ms/step - loss: 24329652.0000 - val_loss: 25519932.0000\n",
            "Epoch 132/300\n",
            "37/37 [==============================] - 0s 4ms/step - loss: 24089998.0000 - val_loss: 25291456.0000\n",
            "Epoch 133/300\n",
            "37/37 [==============================] - 0s 5ms/step - loss: 23871790.0000 - val_loss: 25092402.0000\n",
            "Epoch 134/300\n",
            "37/37 [==============================] - 0s 4ms/step - loss: 23660624.0000 - val_loss: 24893284.0000\n",
            "Epoch 135/300\n",
            "37/37 [==============================] - 0s 4ms/step - loss: 23482386.0000 - val_loss: 24708516.0000\n",
            "Epoch 136/300\n",
            "37/37 [==============================] - 0s 4ms/step - loss: 23331680.0000 - val_loss: 24543248.0000\n",
            "Epoch 137/300\n",
            "37/37 [==============================] - 0s 4ms/step - loss: 23167854.0000 - val_loss: 24380570.0000\n",
            "Epoch 138/300\n",
            "37/37 [==============================] - 0s 5ms/step - loss: 22991036.0000 - val_loss: 24247680.0000\n",
            "Epoch 139/300\n",
            "37/37 [==============================] - 0s 5ms/step - loss: 22848572.0000 - val_loss: 24131936.0000\n",
            "Epoch 140/300\n",
            "37/37 [==============================] - 0s 6ms/step - loss: 22723964.0000 - val_loss: 23999384.0000\n",
            "Epoch 141/300\n",
            "37/37 [==============================] - 0s 5ms/step - loss: 22599558.0000 - val_loss: 23879758.0000\n",
            "Epoch 142/300\n",
            "37/37 [==============================] - 0s 5ms/step - loss: 22503196.0000 - val_loss: 23799632.0000\n",
            "Epoch 143/300\n",
            "37/37 [==============================] - 0s 5ms/step - loss: 22396298.0000 - val_loss: 23703270.0000\n",
            "Epoch 144/300\n",
            "37/37 [==============================] - 0s 4ms/step - loss: 22298562.0000 - val_loss: 23587960.0000\n",
            "Epoch 145/300\n",
            "37/37 [==============================] - 0s 4ms/step - loss: 22202154.0000 - val_loss: 23498912.0000\n",
            "Epoch 146/300\n",
            "37/37 [==============================] - 0s 5ms/step - loss: 22151512.0000 - val_loss: 23536768.0000\n",
            "Epoch 147/300\n",
            "37/37 [==============================] - 0s 5ms/step - loss: 22053966.0000 - val_loss: 23333926.0000\n",
            "Epoch 148/300\n",
            "37/37 [==============================] - 0s 5ms/step - loss: 21966440.0000 - val_loss: 23246072.0000\n",
            "Epoch 149/300\n",
            "37/37 [==============================] - 0s 4ms/step - loss: 21898508.0000 - val_loss: 23195846.0000\n",
            "Epoch 150/300\n",
            "37/37 [==============================] - 0s 3ms/step - loss: 21840550.0000 - val_loss: 23106832.0000\n",
            "Epoch 151/300\n",
            "37/37 [==============================] - 0s 5ms/step - loss: 21752514.0000 - val_loss: 23087324.0000\n",
            "Epoch 152/300\n",
            "37/37 [==============================] - 0s 4ms/step - loss: 21697432.0000 - val_loss: 22977090.0000\n",
            "Epoch 153/300\n",
            "37/37 [==============================] - 0s 4ms/step - loss: 21627302.0000 - val_loss: 22914868.0000\n",
            "Epoch 154/300\n",
            "37/37 [==============================] - 0s 5ms/step - loss: 21570040.0000 - val_loss: 22861254.0000\n",
            "Epoch 155/300\n",
            "37/37 [==============================] - 0s 4ms/step - loss: 21508506.0000 - val_loss: 22873352.0000\n",
            "Epoch 156/300\n",
            "37/37 [==============================] - 0s 5ms/step - loss: 21469008.0000 - val_loss: 22785078.0000\n",
            "Epoch 157/300\n",
            "37/37 [==============================] - 0s 5ms/step - loss: 21439116.0000 - val_loss: 22731892.0000\n",
            "Epoch 158/300\n",
            "37/37 [==============================] - 1s 14ms/step - loss: 21358506.0000 - val_loss: 22652010.0000\n",
            "Epoch 159/300\n",
            "37/37 [==============================] - 0s 5ms/step - loss: 21337318.0000 - val_loss: 22652192.0000\n",
            "Epoch 160/300\n",
            "37/37 [==============================] - 0s 5ms/step - loss: 21279504.0000 - val_loss: 22558788.0000\n",
            "Epoch 161/300\n",
            "37/37 [==============================] - 0s 4ms/step - loss: 21197536.0000 - val_loss: 22507558.0000\n",
            "Epoch 162/300\n",
            "37/37 [==============================] - 1s 15ms/step - loss: 21147654.0000 - val_loss: 22465538.0000\n",
            "Epoch 163/300\n",
            "37/37 [==============================] - 0s 4ms/step - loss: 21102360.0000 - val_loss: 22478348.0000\n",
            "Epoch 164/300\n",
            "37/37 [==============================] - 0s 5ms/step - loss: 21085016.0000 - val_loss: 22408118.0000\n",
            "Epoch 165/300\n",
            "37/37 [==============================] - 1s 14ms/step - loss: 21028472.0000 - val_loss: 22357040.0000\n",
            "Epoch 166/300\n",
            "37/37 [==============================] - 0s 7ms/step - loss: 21011230.0000 - val_loss: 22296880.0000\n",
            "Epoch 167/300\n",
            "37/37 [==============================] - 0s 4ms/step - loss: 20950466.0000 - val_loss: 22287516.0000\n",
            "Epoch 168/300\n",
            "37/37 [==============================] - 0s 4ms/step - loss: 20901874.0000 - val_loss: 22228566.0000\n",
            "Epoch 169/300\n",
            "37/37 [==============================] - 0s 5ms/step - loss: 20872352.0000 - val_loss: 22221966.0000\n",
            "Epoch 170/300\n",
            "37/37 [==============================] - 0s 4ms/step - loss: 20851382.0000 - val_loss: 22191112.0000\n",
            "Epoch 171/300\n",
            "37/37 [==============================] - 0s 4ms/step - loss: 20809690.0000 - val_loss: 22157970.0000\n",
            "Epoch 172/300\n",
            "37/37 [==============================] - 0s 5ms/step - loss: 20796202.0000 - val_loss: 22119020.0000\n",
            "Epoch 173/300\n",
            "37/37 [==============================] - 0s 4ms/step - loss: 20764846.0000 - val_loss: 22113278.0000\n",
            "Epoch 174/300\n",
            "37/37 [==============================] - 0s 5ms/step - loss: 20738248.0000 - val_loss: 22064712.0000\n",
            "Epoch 175/300\n",
            "37/37 [==============================] - 0s 4ms/step - loss: 20707428.0000 - val_loss: 22061226.0000\n",
            "Epoch 176/300\n",
            "37/37 [==============================] - 0s 5ms/step - loss: 20678066.0000 - val_loss: 22021726.0000\n",
            "Epoch 177/300\n",
            "37/37 [==============================] - 0s 5ms/step - loss: 20639388.0000 - val_loss: 22001908.0000\n",
            "Epoch 178/300\n",
            "37/37 [==============================] - 0s 4ms/step - loss: 20616756.0000 - val_loss: 21985184.0000\n",
            "Epoch 179/300\n",
            "37/37 [==============================] - 0s 4ms/step - loss: 20581888.0000 - val_loss: 21991806.0000\n",
            "Epoch 180/300\n",
            "37/37 [==============================] - 0s 5ms/step - loss: 20572848.0000 - val_loss: 21964912.0000\n",
            "Epoch 181/300\n",
            "37/37 [==============================] - 0s 4ms/step - loss: 20528534.0000 - val_loss: 21938404.0000\n",
            "Epoch 182/300\n",
            "37/37 [==============================] - 0s 8ms/step - loss: 20513090.0000 - val_loss: 21904516.0000\n",
            "Epoch 183/300\n",
            "37/37 [==============================] - 0s 6ms/step - loss: 20519352.0000 - val_loss: 21886160.0000\n",
            "Epoch 184/300\n",
            "37/37 [==============================] - 0s 6ms/step - loss: 20467210.0000 - val_loss: 21869380.0000\n",
            "Epoch 185/300\n",
            "37/37 [==============================] - 0s 8ms/step - loss: 20444248.0000 - val_loss: 21853152.0000\n",
            "Epoch 186/300\n",
            "37/37 [==============================] - 0s 7ms/step - loss: 20424934.0000 - val_loss: 21838336.0000\n",
            "Epoch 187/300\n",
            "37/37 [==============================] - 0s 7ms/step - loss: 20402524.0000 - val_loss: 21813074.0000\n",
            "Epoch 188/300\n",
            "37/37 [==============================] - 0s 7ms/step - loss: 20375874.0000 - val_loss: 21794690.0000\n",
            "Epoch 189/300\n",
            "37/37 [==============================] - 0s 8ms/step - loss: 20351972.0000 - val_loss: 21803100.0000\n",
            "Epoch 190/300\n",
            "37/37 [==============================] - 0s 6ms/step - loss: 20350610.0000 - val_loss: 21761396.0000\n",
            "Epoch 191/300\n",
            "37/37 [==============================] - 0s 6ms/step - loss: 20316506.0000 - val_loss: 21746990.0000\n",
            "Epoch 192/300\n",
            "37/37 [==============================] - 0s 7ms/step - loss: 20308592.0000 - val_loss: 21786616.0000\n",
            "Epoch 193/300\n",
            "37/37 [==============================] - 0s 7ms/step - loss: 20279494.0000 - val_loss: 21726036.0000\n",
            "Epoch 194/300\n",
            "37/37 [==============================] - 0s 7ms/step - loss: 20275032.0000 - val_loss: 21709114.0000\n",
            "Epoch 195/300\n",
            "37/37 [==============================] - 0s 6ms/step - loss: 20253442.0000 - val_loss: 21684740.0000\n",
            "Epoch 196/300\n",
            "37/37 [==============================] - 0s 6ms/step - loss: 20249794.0000 - val_loss: 21713356.0000\n",
            "Epoch 197/300\n",
            "37/37 [==============================] - 0s 7ms/step - loss: 20213114.0000 - val_loss: 21685862.0000\n",
            "Epoch 198/300\n",
            "37/37 [==============================] - 0s 6ms/step - loss: 20205896.0000 - val_loss: 21639742.0000\n",
            "Epoch 199/300\n",
            "37/37 [==============================] - 0s 5ms/step - loss: 20175026.0000 - val_loss: 21628498.0000\n",
            "Epoch 200/300\n",
            "37/37 [==============================] - 0s 6ms/step - loss: 20149224.0000 - val_loss: 21618514.0000\n",
            "Epoch 201/300\n",
            "37/37 [==============================] - 0s 5ms/step - loss: 20135086.0000 - val_loss: 21575702.0000\n",
            "Epoch 202/300\n",
            "37/37 [==============================] - 0s 5ms/step - loss: 20114386.0000 - val_loss: 21565542.0000\n",
            "Epoch 203/300\n",
            "37/37 [==============================] - 0s 4ms/step - loss: 20094736.0000 - val_loss: 21559078.0000\n",
            "Epoch 204/300\n",
            "37/37 [==============================] - 0s 5ms/step - loss: 20085144.0000 - val_loss: 21528298.0000\n",
            "Epoch 205/300\n",
            "37/37 [==============================] - 0s 5ms/step - loss: 20068956.0000 - val_loss: 21513196.0000\n",
            "Epoch 206/300\n",
            "37/37 [==============================] - 0s 4ms/step - loss: 20055464.0000 - val_loss: 21497442.0000\n",
            "Epoch 207/300\n",
            "37/37 [==============================] - 0s 5ms/step - loss: 20024174.0000 - val_loss: 21507302.0000\n",
            "Epoch 208/300\n",
            "37/37 [==============================] - 0s 4ms/step - loss: 19994184.0000 - val_loss: 21468114.0000\n",
            "Epoch 209/300\n",
            "37/37 [==============================] - 0s 5ms/step - loss: 19980936.0000 - val_loss: 21451842.0000\n",
            "Epoch 210/300\n",
            "37/37 [==============================] - 0s 4ms/step - loss: 19962516.0000 - val_loss: 21448346.0000\n",
            "Epoch 211/300\n",
            "37/37 [==============================] - 0s 5ms/step - loss: 19972806.0000 - val_loss: 21422188.0000\n",
            "Epoch 212/300\n",
            "37/37 [==============================] - 0s 4ms/step - loss: 19938118.0000 - val_loss: 21407178.0000\n",
            "Epoch 213/300\n",
            "37/37 [==============================] - 0s 4ms/step - loss: 19923422.0000 - val_loss: 21397670.0000\n",
            "Epoch 214/300\n",
            "37/37 [==============================] - 0s 4ms/step - loss: 19893000.0000 - val_loss: 21380386.0000\n",
            "Epoch 215/300\n",
            "37/37 [==============================] - 0s 5ms/step - loss: 19889698.0000 - val_loss: 21383790.0000\n",
            "Epoch 216/300\n",
            "37/37 [==============================] - 0s 4ms/step - loss: 19883204.0000 - val_loss: 21349916.0000\n",
            "Epoch 217/300\n",
            "37/37 [==============================] - 0s 4ms/step - loss: 19845138.0000 - val_loss: 21330994.0000\n",
            "Epoch 218/300\n",
            "37/37 [==============================] - 0s 4ms/step - loss: 19863146.0000 - val_loss: 21314450.0000\n",
            "Epoch 219/300\n",
            "37/37 [==============================] - 0s 4ms/step - loss: 19815778.0000 - val_loss: 21299700.0000\n",
            "Epoch 220/300\n",
            "37/37 [==============================] - 0s 4ms/step - loss: 19817508.0000 - val_loss: 21320646.0000\n",
            "Epoch 221/300\n",
            "37/37 [==============================] - 0s 4ms/step - loss: 19787302.0000 - val_loss: 21270754.0000\n",
            "Epoch 222/300\n",
            "37/37 [==============================] - 0s 4ms/step - loss: 19755642.0000 - val_loss: 21263126.0000\n",
            "Epoch 223/300\n",
            "37/37 [==============================] - 0s 5ms/step - loss: 19743610.0000 - val_loss: 21260374.0000\n",
            "Epoch 224/300\n",
            "37/37 [==============================] - 0s 4ms/step - loss: 19722780.0000 - val_loss: 21231706.0000\n",
            "Epoch 225/300\n",
            "37/37 [==============================] - 0s 4ms/step - loss: 19706702.0000 - val_loss: 21244984.0000\n",
            "Epoch 226/300\n",
            "37/37 [==============================] - 0s 5ms/step - loss: 19694528.0000 - val_loss: 21239702.0000\n",
            "Epoch 227/300\n",
            "37/37 [==============================] - 0s 4ms/step - loss: 19670290.0000 - val_loss: 21210806.0000\n",
            "Epoch 228/300\n",
            "37/37 [==============================] - 0s 4ms/step - loss: 19654086.0000 - val_loss: 21199034.0000\n",
            "Epoch 229/300\n",
            "37/37 [==============================] - 0s 5ms/step - loss: 19667008.0000 - val_loss: 21161868.0000\n",
            "Epoch 230/300\n",
            "37/37 [==============================] - 0s 4ms/step - loss: 19618532.0000 - val_loss: 21151626.0000\n",
            "Epoch 231/300\n",
            "37/37 [==============================] - 0s 5ms/step - loss: 19623578.0000 - val_loss: 21137504.0000\n",
            "Epoch 232/300\n",
            "37/37 [==============================] - 0s 4ms/step - loss: 19580320.0000 - val_loss: 21123616.0000\n",
            "Epoch 233/300\n",
            "37/37 [==============================] - 0s 4ms/step - loss: 19579424.0000 - val_loss: 21105222.0000\n",
            "Epoch 234/300\n",
            "37/37 [==============================] - 0s 6ms/step - loss: 19572290.0000 - val_loss: 21094416.0000\n",
            "Epoch 235/300\n",
            "37/37 [==============================] - 0s 5ms/step - loss: 19542392.0000 - val_loss: 21080774.0000\n",
            "Epoch 236/300\n",
            "37/37 [==============================] - 0s 5ms/step - loss: 19527984.0000 - val_loss: 21069920.0000\n",
            "Epoch 237/300\n",
            "37/37 [==============================] - 0s 6ms/step - loss: 19516520.0000 - val_loss: 21053638.0000\n",
            "Epoch 238/300\n",
            "37/37 [==============================] - 0s 5ms/step - loss: 19499494.0000 - val_loss: 21043190.0000\n",
            "Epoch 239/300\n",
            "37/37 [==============================] - 0s 4ms/step - loss: 19484914.0000 - val_loss: 21051474.0000\n",
            "Epoch 240/300\n",
            "37/37 [==============================] - 0s 4ms/step - loss: 19469818.0000 - val_loss: 21024200.0000\n",
            "Epoch 241/300\n",
            "37/37 [==============================] - 0s 5ms/step - loss: 19448138.0000 - val_loss: 21070644.0000\n",
            "Epoch 242/300\n",
            "37/37 [==============================] - 0s 4ms/step - loss: 19453324.0000 - val_loss: 21134644.0000\n",
            "Epoch 243/300\n",
            "37/37 [==============================] - 0s 5ms/step - loss: 19441866.0000 - val_loss: 20976552.0000\n",
            "Epoch 244/300\n",
            "37/37 [==============================] - 0s 5ms/step - loss: 19398192.0000 - val_loss: 20991102.0000\n",
            "Epoch 245/300\n",
            "37/37 [==============================] - 0s 4ms/step - loss: 19402888.0000 - val_loss: 20962188.0000\n",
            "Epoch 246/300\n",
            "37/37 [==============================] - 0s 5ms/step - loss: 19376832.0000 - val_loss: 20929994.0000\n",
            "Epoch 247/300\n",
            "37/37 [==============================] - 0s 4ms/step - loss: 19364402.0000 - val_loss: 20937746.0000\n",
            "Epoch 248/300\n",
            "37/37 [==============================] - 0s 5ms/step - loss: 19348620.0000 - val_loss: 20905124.0000\n",
            "Epoch 249/300\n",
            "37/37 [==============================] - 0s 6ms/step - loss: 19333782.0000 - val_loss: 20903702.0000\n",
            "Epoch 250/300\n",
            "37/37 [==============================] - 0s 4ms/step - loss: 19341860.0000 - val_loss: 20880344.0000\n",
            "Epoch 251/300\n",
            "37/37 [==============================] - 0s 4ms/step - loss: 19308516.0000 - val_loss: 20877750.0000\n",
            "Epoch 252/300\n",
            "37/37 [==============================] - 0s 5ms/step - loss: 19291294.0000 - val_loss: 20869574.0000\n",
            "Epoch 253/300\n",
            "37/37 [==============================] - 0s 4ms/step - loss: 19279252.0000 - val_loss: 20842278.0000\n",
            "Epoch 254/300\n",
            "37/37 [==============================] - 0s 4ms/step - loss: 19265290.0000 - val_loss: 20828034.0000\n",
            "Epoch 255/300\n",
            "37/37 [==============================] - 0s 5ms/step - loss: 19257564.0000 - val_loss: 20815100.0000\n",
            "Epoch 256/300\n",
            "37/37 [==============================] - 0s 7ms/step - loss: 19241136.0000 - val_loss: 20804390.0000\n",
            "Epoch 257/300\n",
            "37/37 [==============================] - 0s 8ms/step - loss: 19227672.0000 - val_loss: 20811832.0000\n",
            "Epoch 258/300\n",
            "37/37 [==============================] - 0s 7ms/step - loss: 19236812.0000 - val_loss: 20790038.0000\n",
            "Epoch 259/300\n",
            "37/37 [==============================] - 0s 8ms/step - loss: 19227022.0000 - val_loss: 20781330.0000\n",
            "Epoch 260/300\n",
            "37/37 [==============================] - 0s 6ms/step - loss: 19192858.0000 - val_loss: 20756446.0000\n",
            "Epoch 261/300\n",
            "37/37 [==============================] - 0s 6ms/step - loss: 19184392.0000 - val_loss: 20751946.0000\n",
            "Epoch 262/300\n",
            "37/37 [==============================] - 0s 7ms/step - loss: 19174944.0000 - val_loss: 20763704.0000\n",
            "Epoch 263/300\n",
            "37/37 [==============================] - 0s 7ms/step - loss: 19165446.0000 - val_loss: 20788186.0000\n",
            "Epoch 264/300\n",
            "37/37 [==============================] - 0s 6ms/step - loss: 19161170.0000 - val_loss: 20753214.0000\n",
            "Epoch 265/300\n",
            "37/37 [==============================] - 0s 7ms/step - loss: 19160068.0000 - val_loss: 20707850.0000\n",
            "Epoch 266/300\n",
            "37/37 [==============================] - 0s 8ms/step - loss: 19129266.0000 - val_loss: 20688962.0000\n",
            "Epoch 267/300\n",
            "37/37 [==============================] - 0s 8ms/step - loss: 19121616.0000 - val_loss: 20743572.0000\n",
            "Epoch 268/300\n",
            "37/37 [==============================] - 0s 7ms/step - loss: 19118584.0000 - val_loss: 20667642.0000\n",
            "Epoch 269/300\n",
            "37/37 [==============================] - 0s 9ms/step - loss: 19111264.0000 - val_loss: 20656742.0000\n",
            "Epoch 270/300\n",
            "37/37 [==============================] - 0s 9ms/step - loss: 19088128.0000 - val_loss: 20656516.0000\n",
            "Epoch 271/300\n",
            "37/37 [==============================] - 0s 7ms/step - loss: 19166608.0000 - val_loss: 20739844.0000\n",
            "Epoch 272/300\n",
            "37/37 [==============================] - 0s 4ms/step - loss: 19095448.0000 - val_loss: 20624776.0000\n",
            "Epoch 273/300\n",
            "37/37 [==============================] - 0s 5ms/step - loss: 19058482.0000 - val_loss: 20620818.0000\n",
            "Epoch 274/300\n",
            "37/37 [==============================] - 0s 4ms/step - loss: 19075218.0000 - val_loss: 20626386.0000\n",
            "Epoch 275/300\n",
            "37/37 [==============================] - 0s 5ms/step - loss: 19038084.0000 - val_loss: 20615406.0000\n",
            "Epoch 276/300\n",
            "37/37 [==============================] - 0s 4ms/step - loss: 19024498.0000 - val_loss: 20584624.0000\n",
            "Epoch 277/300\n",
            "37/37 [==============================] - 0s 4ms/step - loss: 19029960.0000 - val_loss: 20583592.0000\n",
            "Epoch 278/300\n",
            "37/37 [==============================] - 0s 5ms/step - loss: 19010484.0000 - val_loss: 20573640.0000\n",
            "Epoch 279/300\n",
            "37/37 [==============================] - 0s 5ms/step - loss: 19011230.0000 - val_loss: 20586976.0000\n",
            "Epoch 280/300\n",
            "37/37 [==============================] - 0s 4ms/step - loss: 18991228.0000 - val_loss: 20565824.0000\n",
            "Epoch 281/300\n",
            "37/37 [==============================] - 0s 4ms/step - loss: 18987148.0000 - val_loss: 20559768.0000\n",
            "Epoch 282/300\n",
            "37/37 [==============================] - 0s 5ms/step - loss: 18991272.0000 - val_loss: 20532762.0000\n",
            "Epoch 283/300\n",
            "37/37 [==============================] - 0s 6ms/step - loss: 18967496.0000 - val_loss: 20523830.0000\n",
            "Epoch 284/300\n",
            "37/37 [==============================] - 0s 6ms/step - loss: 18971490.0000 - val_loss: 20515768.0000\n",
            "Epoch 285/300\n",
            "37/37 [==============================] - 0s 4ms/step - loss: 18975904.0000 - val_loss: 20515828.0000\n",
            "Epoch 286/300\n",
            "37/37 [==============================] - 0s 7ms/step - loss: 18952650.0000 - val_loss: 20532974.0000\n",
            "Epoch 287/300\n",
            "37/37 [==============================] - 0s 5ms/step - loss: 18965566.0000 - val_loss: 20503366.0000\n",
            "Epoch 288/300\n",
            "37/37 [==============================] - 0s 6ms/step - loss: 18963194.0000 - val_loss: 20474194.0000\n",
            "Epoch 289/300\n",
            "37/37 [==============================] - 0s 4ms/step - loss: 18922300.0000 - val_loss: 20492944.0000\n",
            "Epoch 290/300\n",
            "37/37 [==============================] - 0s 6ms/step - loss: 18910460.0000 - val_loss: 20455518.0000\n",
            "Epoch 291/300\n",
            "37/37 [==============================] - 0s 5ms/step - loss: 18895556.0000 - val_loss: 20457942.0000\n",
            "Epoch 292/300\n",
            "37/37 [==============================] - 0s 5ms/step - loss: 18895854.0000 - val_loss: 20447622.0000\n",
            "Epoch 293/300\n",
            "37/37 [==============================] - 0s 5ms/step - loss: 18894452.0000 - val_loss: 20435968.0000\n",
            "Epoch 294/300\n",
            "37/37 [==============================] - 0s 5ms/step - loss: 18881476.0000 - val_loss: 20419744.0000\n",
            "Epoch 295/300\n",
            "37/37 [==============================] - 0s 5ms/step - loss: 18905820.0000 - val_loss: 20470078.0000\n",
            "Epoch 296/300\n",
            "37/37 [==============================] - 0s 5ms/step - loss: 18899058.0000 - val_loss: 20406888.0000\n",
            "Epoch 297/300\n",
            "37/37 [==============================] - 0s 5ms/step - loss: 18861300.0000 - val_loss: 20401068.0000\n",
            "Epoch 298/300\n",
            "37/37 [==============================] - 0s 4ms/step - loss: 18839926.0000 - val_loss: 20399452.0000\n",
            "Epoch 299/300\n",
            "37/37 [==============================] - 0s 5ms/step - loss: 18841308.0000 - val_loss: 20401338.0000\n",
            "Epoch 300/300\n",
            "37/37 [==============================] - 0s 4ms/step - loss: 18829446.0000 - val_loss: 20403284.0000\n"
          ]
        },
        {
          "data": {
            "text/plain": [
              "<keras.callbacks.History at 0x7f73f273d8b0>"
            ]
          },
          "execution_count": 132,
          "metadata": {},
          "output_type": "execute_result"
        }
      ],
      "source": [
        "model.fit(x=X_train, y=y_train, validation_data=(X_test,y_test), batch_size=250, epochs=300)"
      ]
    },
    {
      "cell_type": "code",
      "execution_count": 133,
      "metadata": {
        "colab": {
          "base_uri": "https://localhost:8080/",
          "height": 424
        },
        "id": "2-Pfx70uGorp",
        "outputId": "aed2890e-fc13-4dd8-d0b1-68c081dd9e23"
      },
      "outputs": [
        {
          "data": {
            "text/html": [
              "\n",
              "  <div id=\"df-2208eff3-a9fd-4d42-af6a-90679f506ebd\">\n",
              "    <div class=\"colab-df-container\">\n",
              "      <div>\n",
              "<style scoped>\n",
              "    .dataframe tbody tr th:only-of-type {\n",
              "        vertical-align: middle;\n",
              "    }\n",
              "\n",
              "    .dataframe tbody tr th {\n",
              "        vertical-align: top;\n",
              "    }\n",
              "\n",
              "    .dataframe thead th {\n",
              "        text-align: right;\n",
              "    }\n",
              "</style>\n",
              "<table border=\"1\" class=\"dataframe\">\n",
              "  <thead>\n",
              "    <tr style=\"text-align: right;\">\n",
              "      <th></th>\n",
              "      <th>loss</th>\n",
              "      <th>val_loss</th>\n",
              "    </tr>\n",
              "  </thead>\n",
              "  <tbody>\n",
              "    <tr>\n",
              "      <th>0</th>\n",
              "      <td>672154688.0</td>\n",
              "      <td>688107904.0</td>\n",
              "    </tr>\n",
              "    <tr>\n",
              "      <th>1</th>\n",
              "      <td>672128896.0</td>\n",
              "      <td>688074496.0</td>\n",
              "    </tr>\n",
              "    <tr>\n",
              "      <th>2</th>\n",
              "      <td>672072192.0</td>\n",
              "      <td>687971264.0</td>\n",
              "    </tr>\n",
              "    <tr>\n",
              "      <th>3</th>\n",
              "      <td>671878720.0</td>\n",
              "      <td>687630528.0</td>\n",
              "    </tr>\n",
              "    <tr>\n",
              "      <th>4</th>\n",
              "      <td>671261440.0</td>\n",
              "      <td>686579264.0</td>\n",
              "    </tr>\n",
              "    <tr>\n",
              "      <th>...</th>\n",
              "      <td>...</td>\n",
              "      <td>...</td>\n",
              "    </tr>\n",
              "    <tr>\n",
              "      <th>295</th>\n",
              "      <td>18899058.0</td>\n",
              "      <td>20406888.0</td>\n",
              "    </tr>\n",
              "    <tr>\n",
              "      <th>296</th>\n",
              "      <td>18861300.0</td>\n",
              "      <td>20401068.0</td>\n",
              "    </tr>\n",
              "    <tr>\n",
              "      <th>297</th>\n",
              "      <td>18839926.0</td>\n",
              "      <td>20399452.0</td>\n",
              "    </tr>\n",
              "    <tr>\n",
              "      <th>298</th>\n",
              "      <td>18841308.0</td>\n",
              "      <td>20401338.0</td>\n",
              "    </tr>\n",
              "    <tr>\n",
              "      <th>299</th>\n",
              "      <td>18829446.0</td>\n",
              "      <td>20403284.0</td>\n",
              "    </tr>\n",
              "  </tbody>\n",
              "</table>\n",
              "<p>300 rows × 2 columns</p>\n",
              "</div>\n",
              "      <button class=\"colab-df-convert\" onclick=\"convertToInteractive('df-2208eff3-a9fd-4d42-af6a-90679f506ebd')\"\n",
              "              title=\"Convert this dataframe to an interactive table.\"\n",
              "              style=\"display:none;\">\n",
              "        \n",
              "  <svg xmlns=\"http://www.w3.org/2000/svg\" height=\"24px\"viewBox=\"0 0 24 24\"\n",
              "       width=\"24px\">\n",
              "    <path d=\"M0 0h24v24H0V0z\" fill=\"none\"/>\n",
              "    <path d=\"M18.56 5.44l.94 2.06.94-2.06 2.06-.94-2.06-.94-.94-2.06-.94 2.06-2.06.94zm-11 1L8.5 8.5l.94-2.06 2.06-.94-2.06-.94L8.5 2.5l-.94 2.06-2.06.94zm10 10l.94 2.06.94-2.06 2.06-.94-2.06-.94-.94-2.06-.94 2.06-2.06.94z\"/><path d=\"M17.41 7.96l-1.37-1.37c-.4-.4-.92-.59-1.43-.59-.52 0-1.04.2-1.43.59L10.3 9.45l-7.72 7.72c-.78.78-.78 2.05 0 2.83L4 21.41c.39.39.9.59 1.41.59.51 0 1.02-.2 1.41-.59l7.78-7.78 2.81-2.81c.8-.78.8-2.07 0-2.86zM5.41 20L4 18.59l7.72-7.72 1.47 1.35L5.41 20z\"/>\n",
              "  </svg>\n",
              "      </button>\n",
              "      \n",
              "  <style>\n",
              "    .colab-df-container {\n",
              "      display:flex;\n",
              "      flex-wrap:wrap;\n",
              "      gap: 12px;\n",
              "    }\n",
              "\n",
              "    .colab-df-convert {\n",
              "      background-color: #E8F0FE;\n",
              "      border: none;\n",
              "      border-radius: 50%;\n",
              "      cursor: pointer;\n",
              "      display: none;\n",
              "      fill: #1967D2;\n",
              "      height: 32px;\n",
              "      padding: 0 0 0 0;\n",
              "      width: 32px;\n",
              "    }\n",
              "\n",
              "    .colab-df-convert:hover {\n",
              "      background-color: #E2EBFA;\n",
              "      box-shadow: 0px 1px 2px rgba(60, 64, 67, 0.3), 0px 1px 3px 1px rgba(60, 64, 67, 0.15);\n",
              "      fill: #174EA6;\n",
              "    }\n",
              "\n",
              "    [theme=dark] .colab-df-convert {\n",
              "      background-color: #3B4455;\n",
              "      fill: #D2E3FC;\n",
              "    }\n",
              "\n",
              "    [theme=dark] .colab-df-convert:hover {\n",
              "      background-color: #434B5C;\n",
              "      box-shadow: 0px 1px 3px 1px rgba(0, 0, 0, 0.15);\n",
              "      filter: drop-shadow(0px 1px 2px rgba(0, 0, 0, 0.3));\n",
              "      fill: #FFFFFF;\n",
              "    }\n",
              "  </style>\n",
              "\n",
              "      <script>\n",
              "        const buttonEl =\n",
              "          document.querySelector('#df-2208eff3-a9fd-4d42-af6a-90679f506ebd button.colab-df-convert');\n",
              "        buttonEl.style.display =\n",
              "          google.colab.kernel.accessAllowed ? 'block' : 'none';\n",
              "\n",
              "        async function convertToInteractive(key) {\n",
              "          const element = document.querySelector('#df-2208eff3-a9fd-4d42-af6a-90679f506ebd');\n",
              "          const dataTable =\n",
              "            await google.colab.kernel.invokeFunction('convertToInteractive',\n",
              "                                                     [key], {});\n",
              "          if (!dataTable) return;\n",
              "\n",
              "          const docLinkHtml = 'Like what you see? Visit the ' +\n",
              "            '<a target=\"_blank\" href=https://colab.research.google.com/notebooks/data_table.ipynb>data table notebook</a>'\n",
              "            + ' to learn more about interactive tables.';\n",
              "          element.innerHTML = '';\n",
              "          dataTable['output_type'] = 'display_data';\n",
              "          await google.colab.output.renderOutput(dataTable, element);\n",
              "          const docLink = document.createElement('div');\n",
              "          docLink.innerHTML = docLinkHtml;\n",
              "          element.appendChild(docLink);\n",
              "        }\n",
              "      </script>\n",
              "    </div>\n",
              "  </div>\n",
              "  "
            ],
            "text/plain": [
              "            loss     val_loss\n",
              "0    672154688.0  688107904.0\n",
              "1    672128896.0  688074496.0\n",
              "2    672072192.0  687971264.0\n",
              "3    671878720.0  687630528.0\n",
              "4    671261440.0  686579264.0\n",
              "..           ...          ...\n",
              "295   18899058.0   20406888.0\n",
              "296   18861300.0   20401068.0\n",
              "297   18839926.0   20399452.0\n",
              "298   18841308.0   20401338.0\n",
              "299   18829446.0   20403284.0\n",
              "\n",
              "[300 rows x 2 columns]"
            ]
          },
          "execution_count": 133,
          "metadata": {},
          "output_type": "execute_result"
        }
      ],
      "source": [
        "lossData = pd.DataFrame(model.history.history)\n",
        "lossData"
      ]
    },
    {
      "cell_type": "code",
      "execution_count": 134,
      "metadata": {
        "colab": {
          "base_uri": "https://localhost:8080/",
          "height": 293
        },
        "id": "dzEIe4Z0IrEs",
        "outputId": "10dedc23-8af8-462f-ba65-e7425da7d18c"
      },
      "outputs": [
        {
          "data": {
            "text/plain": [
              "<Axes: >"
            ]
          },
          "execution_count": 134,
          "metadata": {},
          "output_type": "execute_result"
        },
        {
          "data": {
            "image/png": "[encoded data removed]",
            "text/plain": [
              "<Figure size 432x288 with 1 Axes>"
            ]
          },
          "metadata": {
            "needs_background": "light"
          },
          "output_type": "display_data"
        }
      ],
      "source": [
        "lossData.plot()"
      ]
    },
    {
      "cell_type": "markdown",
      "metadata": {
        "id": "8hFAikPDY9-G"
      },
      "source": [
        "### Performance Metrics"
      ]
    },
    {
      "cell_type": "markdown",
      "metadata": {
        "id": "6DtMwntlq9CD"
      },
      "source": [
        "Mean Absolute Error (MAE) and Mean Squared Error (MSE) are two commonly used error metrics for measuring the performance of a prediction model.\n",
        "\n",
        "MAE measures the average of the absolute differences between the predicted values and the true values. It is typically preferred when the magnitude of the individual differences between predicted and true values is more important than the direction of those differences. MAE is calculated by taking the sum of the absolute differences between the predicted and true values across all examples and dividing by the number of examples.\n",
        "\n",
        "MSE measures the average of the squared differences between the predicted values and the true values. It emphasizes larger differences between predicted and true values more than smaller differences, making it more sensitive to outliers. MSE is calculated by taking the sum of the squared differences between predicted and true values across all examples and dividing by the number of examples."
      ]
    },
    {
      "cell_type": "code",
      "execution_count": 135,
      "metadata": {
        "id": "fIYGwqfoIx7j"
      },
      "outputs": [],
      "source": [
        "from sklearn.metrics import mean_absolute_error, mean_squared_error"
      ]
    },
    {
      "cell_type": "code",
      "execution_count": 136,
      "metadata": {
        "colab": {
          "base_uri": "https://localhost:8080/"
        },
        "id": "nzKvwiv5JSzp",
        "outputId": "d4b92439-a908-4367-8956-c6436f6dc2f1"
      },
      "outputs": [
        {
          "name": "stdout",
          "output_type": "stream",
          "text": [
            "122/122 [==============================] - 0s 1ms/step\n"
          ]
        }
      ],
      "source": [
        "y_pred = model.predict(X_test)"
      ]
    },
    {
      "cell_type": "code",
      "execution_count": 137,
      "metadata": {
        "colab": {
          "base_uri": "https://localhost:8080/"
        },
        "id": "-S-15jeEJYof",
        "outputId": "412c6020-1fce-4cb0-d7bb-68a5c213b213"
      },
      "outputs": [
        {
          "data": {
            "text/plain": [
              "3198.227105723854"
            ]
          },
          "execution_count": 137,
          "metadata": {},
          "output_type": "execute_result"
        }
      ],
      "source": [
        "mean_absolute_error(y_test,y_pred)"
      ]
    },
    {
      "cell_type": "code",
      "execution_count": 138,
      "metadata": {
        "colab": {
          "base_uri": "https://localhost:8080/"
        },
        "id": "aYVYCKpvJhja",
        "outputId": "5336ae2f-2906-4ac3-d3b6-23b00d501923"
      },
      "outputs": [
        {
          "data": {
            "text/plain": [
              "20403283.297355395"
            ]
          },
          "execution_count": 138,
          "metadata": {},
          "output_type": "execute_result"
        }
      ],
      "source": [
        "mean_squared_error(y_test,y_pred)"
      ]
    },
    {
      "cell_type": "code",
      "execution_count": 140,
      "metadata": {
        "colab": {
          "base_uri": "https://localhost:8080/",
          "height": 569
        },
        "id": "XSS7GMNQJllc",
        "outputId": "e1b1c9e7-6d5b-411d-a785-516c6cb34abc"
      },
      "outputs": [
        {
          "data": {
            "text/plain": [
              "[<matplotlib.lines.Line2D at 0x7f73f23a6310>]"
            ]
          },
          "execution_count": 140,
          "metadata": {},
          "output_type": "execute_result"
        },
        {
          "data": {
            "image/png": "[encoded data removed]",
            "text/plain": [
              "<Figure size 864x648 with 1 Axes>"
            ]
          },
          "metadata": {
            "needs_background": "light"
          },
          "output_type": "display_data"
        }
      ],
      "source": [
        "plt.figure(figsize=(12,9))\n",
        "plt.scatter(y_test,y_pred)\n",
        "plt.xlabel(\"Predict Values\")\n",
        "plt.ylabel(\"Real Values\")\n",
        "plt.plot(y_test,y_test,\"r-*\")"
      ]
    }
  ],
  "metadata": {
    "colab": {
      "provenance": []
    },
    "kernelspec": {
      "display_name": "Python 3",
      "name": "python3"
    },
    "language_info": {
      "name": "python"
    }
  },
  "nbformat": 4,
  "nbformat_minor": 0
}
